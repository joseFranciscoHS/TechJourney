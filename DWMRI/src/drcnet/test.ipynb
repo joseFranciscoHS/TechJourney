{
 "cells": [
  {
   "cell_type": "code",
   "execution_count": 2,
   "id": "03ddf300",
   "metadata": {},
   "outputs": [],
   "source": [
    "import sys\n",
    "\n",
    "sys.path.append(\"/teamspace/studios/this_studio/TechJourney/DWMRI/src\")\n",
    "from utils.data import DBrainDataLoader\n",
    "\n",
    "dbrain_data_loader = DBrainDataLoader(\n",
    "    nii_path=\"/teamspace/s3_folders/dwmri-dataset/D_BRAIN_b2500_6_60_14_HCP_nless.nii\",\n",
    "    bvecs_path=\"/teamspace/s3_folders/dwmri-dataset/D_BRAIN_b2500_6_60_HCP_b_matrix.txt\",\n",
    ")\n",
    "\n",
    "_, noisy_data = dbrain_data_loader.load_data()"
   ]
  },
  {
   "cell_type": "code",
   "execution_count": 6,
   "id": "06da8053",
   "metadata": {},
   "outputs": [],
   "source": [
    "import numpy as np\n",
    "\n",
    "# transpose data from (X, Y, Z, Bvalues) to (Bvalues, X, Y, Z)\n",
    "noisy_data = np.transpose(noisy_data[..., 6:16], (3, 0, 1, 2))"
   ]
  },
  {
   "cell_type": "code",
   "execution_count": 7,
   "id": "6ce61695",
   "metadata": {},
   "outputs": [
    {
     "data": {
      "text/plain": [
       "(10, 128, 128, 97)"
      ]
     },
     "execution_count": 7,
     "metadata": {},
     "output_type": "execute_result"
    }
   ],
   "source": [
    "noisy_data.shape"
   ]
  },
  {
   "cell_type": "code",
   "execution_count": 5,
   "id": "aa10d147",
   "metadata": {},
   "outputs": [],
   "source": [
    "from skimage.util import view_as_windows"
   ]
  },
  {
   "cell_type": "code",
   "execution_count": 11,
   "id": "f55e5cb1",
   "metadata": {},
   "outputs": [],
   "source": [
    "# taking sliding windows of size 32x32x32\n",
    "new_data = view_as_windows(noisy_data, (10, 32, 32, 32), step=16)"
   ]
  },
  {
   "cell_type": "code",
   "execution_count": 14,
   "id": "4e307429",
   "metadata": {},
   "outputs": [],
   "source": [
    "c_patches, h_patches, w_patches, d_patches = new_data.shape[:4]\n",
    "c, h, w, d = new_data.shape[4:]\n",
    "image = np.reshape(\n",
    "    new_data, (c_patches * h_patches * w_patches * d_patches, c, h, w, d)\n",
    ")"
   ]
  },
  {
   "cell_type": "code",
   "execution_count": 15,
   "id": "fbeb6980",
   "metadata": {},
   "outputs": [
    {
     "data": {
      "text/plain": [
       "(245, 10, 32, 32, 32)"
      ]
     },
     "execution_count": 15,
     "metadata": {},
     "output_type": "execute_result"
    }
   ],
   "source": [
    "image.shape"
   ]
  }
 ],
 "metadata": {
  "kernelspec": {
   "display_name": "cloudspace",
   "language": "python",
   "name": "python3"
  },
  "language_info": {
   "codemirror_mode": {
    "name": "ipython",
    "version": 3
   },
   "file_extension": ".py",
   "mimetype": "text/x-python",
   "name": "python",
   "nbconvert_exporter": "python",
   "pygments_lexer": "ipython3",
   "version": "3.10.16"
  }
 },
 "nbformat": 4,
 "nbformat_minor": 5
}
