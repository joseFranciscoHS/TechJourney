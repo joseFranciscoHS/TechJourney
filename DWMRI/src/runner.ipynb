{
 "cells": [
  {
   "cell_type": "code",
   "execution_count": 1,
   "id": "15956e2b-7a01-442f-9cbc-4054100d102a",
   "metadata": {},
   "outputs": [
    {
     "data": {
      "text/plain": [
       "'2.6.0+cu124'"
      ]
     },
     "execution_count": 1,
     "metadata": {},
     "output_type": "execute_result"
    }
   ],
   "source": [
    "import torch\n",
    "torch.__version__"
   ]
  },
  {
   "cell_type": "code",
   "execution_count": 2,
   "id": "263915cf-945f-4487-99be-ba8d5799401f",
   "metadata": {},
   "outputs": [
    {
     "name": "stderr",
     "output_type": "stream",
     "text": [
      "/home/paco/vqvae/env-torch/lib/python3.10/site-packages/tqdm/auto.py:21: TqdmWarning: IProgress not found. Please update jupyter and ipywidgets. See https://ipywidgets.readthedocs.io/en/stable/user_install.html\n",
      "  from .autonotebook import tqdm as notebook_tqdm\n"
     ]
    }
   ],
   "source": [
    "from drcnet.run import main"
   ]
  },
  {
   "cell_type": "code",
   "execution_count": null,
   "id": "0d639354-0ee6-48f9-ba81-51e9240cc764",
   "metadata": {},
   "outputs": [
    {
     "name": "stderr",
     "output_type": "stream",
     "text": [
      "2025-08-25 23:20:44,014 - root - INFO - Logging configured - level: INFO, file: logs/training_20250825_232044.log\n",
      "2025-08-25 23:20:44,015 - root - INFO - Starting training with dataset: dbrain\n",
      "2025-08-25 23:20:44,015 - root - INFO - Loading config from: /home/paco/TechJourney/TechJourney/DWMRI/src/drcnet/config.yaml\n",
      "2025-08-25 23:20:44,016 - root - INFO - Loading configuration from: /home/paco/TechJourney/TechJourney/DWMRI/src/drcnet/config.yaml\n",
      "2025-08-25 23:20:44,022 - root - INFO - Configuration file loaded successfully\n",
      "2025-08-25 23:20:44,024 - root - INFO - Configuration converted to Munch object\n",
      "2025-08-25 23:20:44,024 - root - INFO - Configuration loaded successfully\n",
      "2025-08-25 23:20:44,025 - root - INFO - Using DBrain dataset configuration\n",
      "2025-08-25 23:20:44,025 - root - INFO - DBrainDataLoader initialized - nii_path: /home/paco/d_brain/D_BRAIN_b2500_6_60_14_HCP_nless.nii, bvecs_path: /home/paco/d_brain/D_BRAIN_b2500_6_60_HCP_b_matrix.txt, bvalue: 2500, noise_sigma: 0.1\n",
      "2025-08-25 23:20:44,026 - root - INFO - DBrainDataLoader initialized with noise_sigma=0.1\n",
      "2025-08-25 23:20:44,027 - root - INFO - Loading data...\n",
      "2025-08-25 23:20:44,027 - root - INFO - Loading data from /home/paco/d_brain/D_BRAIN_b2500_6_60_14_HCP_nless.nii\n",
      "pixdim[0] (qfac) should be 1 (default) or -1; setting qfac to 1\n",
      "2025-08-25 23:20:44,030 - nibabel.global - INFO - pixdim[0] (qfac) should be 1 (default) or -1; setting qfac to 1\n",
      "2025-08-25 23:20:44,032 - root - INFO - Raw data loaded - shape: (128, 128, 97, 66), dtype: float64\n",
      "2025-08-25 23:20:44,298 - root - INFO - Raw data stats - min: 0.0000, max: 7462.0000, mean: 159.3769\n",
      "2025-08-25 23:20:44,299 - root - INFO - Normalizing spatial dimensions...\n",
      "2025-08-25 23:20:44,299 - root - INFO - Normalizing spatial dimensions for data of shape (128, 128, 97, 66)\n",
      "2025-08-25 23:20:45,147 - root - INFO - Spatial normalization completed - output shape: (128, 128, 97, 66)\n",
      "2025-08-25 23:20:45,256 - root - INFO - Normalized data stats - min: 0.0000, max: 1.0000, mean: 0.1140\n",
      "2025-08-25 23:20:45,257 - root - INFO - Adding Rician noise with sigma=0.1...\n",
      "2025-08-25 23:20:45,257 - root - INFO - Adding Rician noise with sigma=0.1 to data of shape (128, 128, 97, 66)\n",
      "2025-08-25 23:20:56,289 - root - INFO - Rician noise added - noisy data shape: (128, 128, 97, 66)\n",
      "2025-08-25 23:20:56,399 - root - INFO - Noisy data stats - min: 0.0000, max: 1.3255, mean: 0.2052\n",
      "2025-08-25 23:20:56,400 - root - INFO - Normalizing noisy data spatial dimensions...\n",
      "2025-08-25 23:20:56,400 - root - INFO - Normalizing spatial dimensions for data of shape (128, 128, 97, 66)\n",
      "2025-08-25 23:20:56,643 - root - INFO - Spatial normalization completed - output shape: (128, 128, 97, 66)\n",
      "2025-08-25 23:20:56,754 - root - INFO - Final noisy data stats - min: 0.0000, max: 1.0000, mean: 0.1626\n",
      "2025-08-25 23:20:56,755 - root - INFO - Data shape: (128, 128, 97, 66)\n",
      "2025-08-25 23:20:56,755 - root - INFO - Noisy data shape: (128, 128, 97, 66)\n",
      "2025-08-25 23:20:56,792 - root - INFO - Taking volumes from 6 to 16\n",
      "2025-08-25 23:20:56,793 - root - INFO - Noisy data shape: (128, 128, 96, 10)\n",
      "2025-08-25 23:20:56,810 - root - INFO - Data type: float32, Min: 0.0000, Max: 1.0000, Mean: 0.1654\n",
      "2025-08-25 23:20:56,811 - root - INFO - Initializing DataSet: data.shape=(128, 128, 96, 10), patch_size=(10, 16, 16, 16), step=4\n",
      "2025-08-25 23:20:56,811 - root - INFO - Data transposed to: (10, 128, 128, 96)\n",
      "2025-08-25 23:20:56,812 - root - INFO - Creating sliding windows: patch_size=(10, 16, 16, 16), step=4\n",
      "2025-08-25 23:21:07,728 - root - INFO - Sliding windows reshaped to: (17661, 10, 16, 16, 16)\n",
      "2025-08-25 23:21:07,729 - root - INFO - Created 17661 windows of shape torch.Size([10, 16, 16, 16]).\n",
      "2025-08-25 23:21:07,730 - root - INFO - DataLoader created with batch_size=64, num_batches=276\n",
      "2025-08-25 23:21:07,730 - root - INFO - Initializing DenoiserNet model...\n",
      "2025-08-25 23:21:07,731 - root - INFO - Initializing DenoiserNet: input_channels=9, output_channels=1, groups=1, dense_convs=3, residual=True, base_filters=16\n",
      "2025-08-25 23:21:07,751 - root - INFO - Initializing GatedBlock: x_channels=16, h_channels=16, dense_convs=3, groups=1\n",
      "2025-08-25 23:21:07,752 - root - INFO - Initializing DenoisingBlock: in_channels=32, inner_channels=16, out_channels=16, inner_convolutions=3, residual=False\n",
      "2025-08-25 23:21:07,753 - root - INFO - Initializing FactorizedBlock: in_channels=48, out_channels=16, groups=1\n",
      "2025-08-25 23:21:07,755 - root - INFO - Initializing FactorizedBlock: in_channels=64, out_channels=16, groups=1\n",
      "2025-08-25 23:21:07,757 - root - INFO - Initializing FactorizedBlock: in_channels=80, out_channels=16, groups=1\n",
      "2025-08-25 23:21:07,759 - root - INFO - Model initialized - in_channel: 9, out_channel: 1\n",
      "2025-08-25 23:21:07,759 - root - INFO - Total model parameters: 42562\n",
      "2025-08-25 23:21:07,760 - root - INFO - Setting up optimizer and scheduler...\n",
      "2025-08-25 23:21:08,698 - root - INFO - Optimizer: Adam(lr=0.001)\n",
      "2025-08-25 23:21:08,699 - root - INFO - Training device: cuda\n",
      "2025-08-25 23:21:08,700 - root - INFO - Number of epochs: 200\n",
      "2025-08-25 23:21:08,700 - root - INFO - Checkpoint directory: drcnet/checkpoints/dbrain\n",
      "2025-08-25 23:21:08,701 - root - INFO - Starting training - device: cuda, epochs: 200\n",
      "2025-08-25 23:21:08,702 - root - INFO - Model device: cpu\n",
      "2025-08-25 23:21:08,889 - root - INFO - Model moved to device: cuda\n",
      "2025-08-25 23:21:08,890 - root - INFO - Using existing checkpoint directory: drcnet/checkpoints/dbrain/bvalue_2500/num_volumes_10/noise_sigma_0.1/learning_rate_0.001\n",
      "2025-08-25 23:21:08,890 - root - INFO - Attempting to load checkpoint from: drcnet/checkpoints/dbrain/bvalue_2500/num_volumes_10/noise_sigma_0.1/learning_rate_0.001/latest_checkpoint.pth\n",
      "2025-08-25 23:21:08,938 - root - INFO - Checkpoint loaded successfully: drcnet/checkpoints/dbrain/bvalue_2500/num_volumes_10/noise_sigma_0.1/learning_rate_0.001/latest_checkpoint.pth\n",
      "2025-08-25 23:21:08,939 - root - INFO - Checkpoint details - epoch: 100, loss: 0.052245, best_loss: 0.052195\n",
      "2025-08-25 23:21:08,940 - root - INFO - No scheduler state in checkpoint\n",
      "2025-08-25 23:21:08,941 - root - INFO - Training starting from epoch: 100\n",
      "2025-08-25 23:21:08,941 - root - INFO - Best loss so far: 0.052195\n",
      "2025-08-25 23:21:08,945 - root - INFO - Starting epoch 101/200\n",
      "2025-08-25 23:21:08,945 - root - INFO - Current learning rate: 0.001000\n",
      "\n",
      "\u001b[Ach 101/200:   0%|          | 0/276 [00:00<?, ?it/s]\n",
      "\u001b[Ach 101/200:   0%|          | 1/276 [00:00<02:08,  2.13it/s]\n",
      "\u001b[Ach 101/200:   1%|          | 3/276 [00:00<00:50,  5.39it/s]\n",
      "\u001b[Ach 101/200:   2%|▏         | 5/276 [00:00<00:35,  7.74it/s]\n",
      "\u001b[Ach 101/200:   3%|▎         | 7/276 [00:00<00:27,  9.71it/s]\n",
      "\u001b[Ach 101/200:   3%|▎         | 9/276 [00:01<00:24, 11.12it/s]\n",
      "\u001b[Ach 101/200:   4%|▍         | 11/276 [00:01<00:21, 12.20it/s]\n",
      "\u001b[Ach 101/200:   5%|▍         | 13/276 [00:01<00:20, 12.97it/s]\n",
      "\u001b[Ach 101/200:   5%|▌         | 15/276 [00:01<00:19, 13.55it/s]\n",
      "\u001b[Ach 101/200:   6%|▌         | 17/276 [00:01<00:18, 13.97it/s]\n",
      "\u001b[Ach 101/200:   7%|▋         | 19/276 [00:01<00:18, 14.27it/s]\n",
      "\u001b[Ach 101/200:   8%|▊         | 21/276 [00:01<00:17, 14.48it/s]\n",
      "\u001b[Ach 101/200:   8%|▊         | 23/276 [00:02<00:17, 14.61it/s]\n",
      "\u001b[Ach 101/200:   9%|▉         | 25/276 [00:02<00:17, 14.73it/s]\n",
      "\u001b[Ach 101/200:  10%|▉         | 27/276 [00:02<00:16, 14.78it/s]\n",
      "\u001b[Ach 101/200:  11%|█         | 29/276 [00:02<00:16, 14.83it/s]\n",
      "\u001b[Ach 101/200:  11%|█         | 31/276 [00:02<00:16, 14.88it/s]"
     ]
    }
   ],
   "source": [
    "main(\"dbrain\")"
   ]
  },
  {
   "cell_type": "code",
   "execution_count": null,
   "id": "dc6edbad-c311-450d-a1c5-cafb96646c81",
   "metadata": {},
   "outputs": [],
   "source": []
  }
 ],
 "metadata": {
  "kernelspec": {
   "display_name": "env-torch",
   "language": "python",
   "name": "env-torch"
  },
  "language_info": {
   "codemirror_mode": {
    "name": "ipython",
    "version": 3
   },
   "file_extension": ".py",
   "mimetype": "text/x-python",
   "name": "python",
   "nbconvert_exporter": "python",
   "pygments_lexer": "ipython3",
   "version": "3.10.16"
  },
  "widgets": {
   "application/vnd.jupyter.widget-state+json": {
    "state": {},
    "version_major": 2,
    "version_minor": 0
   }
  }
 },
 "nbformat": 4,
 "nbformat_minor": 5
}
