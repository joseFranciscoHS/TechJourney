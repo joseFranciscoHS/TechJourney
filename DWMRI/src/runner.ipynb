{
 "cells": [
  {
   "cell_type": "code",
   "execution_count": 1,
   "id": "15956e2b-7a01-442f-9cbc-4054100d102a",
   "metadata": {},
   "outputs": [
    {
     "data": {
      "text/plain": [
       "'2.6.0+cu124'"
      ]
     },
     "execution_count": 1,
     "metadata": {},
     "output_type": "execute_result"
    }
   ],
   "source": [
    "import torch\n",
    "torch.__version__"
   ]
  },
  {
   "cell_type": "code",
   "execution_count": 2,
   "id": "263915cf-945f-4487-99be-ba8d5799401f",
   "metadata": {},
   "outputs": [
    {
     "name": "stderr",
     "output_type": "stream",
     "text": [
      "/home/paco/vqvae/env-torch/lib/python3.10/site-packages/tqdm/auto.py:21: TqdmWarning: IProgress not found. Please update jupyter and ipywidgets. See https://ipywidgets.readthedocs.io/en/stable/user_install.html\n",
      "  from .autonotebook import tqdm as notebook_tqdm\n"
     ]
    }
   ],
   "source": [
    "from drcnet.run import main"
   ]
  },
  {
   "cell_type": "code",
   "execution_count": null,
   "id": "0d639354-0ee6-48f9-ba81-51e9240cc764",
   "metadata": {},
   "outputs": [
    {
     "name": "stderr",
     "output_type": "stream",
     "text": [
      "2025-08-29 18:17:27,332 - root - INFO - Logging configured - level: INFO, file: logs/training_20250829_181727.log\n",
      "2025-08-29 18:17:27,333 - root - INFO - Starting training with dataset: dbrain\n",
      "2025-08-29 18:17:27,334 - root - INFO - Loading config from: /home/paco/TechJourney/TechJourney/DWMRI/src/drcnet/config.yaml\n",
      "2025-08-29 18:17:27,334 - root - INFO - Loading configuration from: /home/paco/TechJourney/TechJourney/DWMRI/src/drcnet/config.yaml\n",
      "2025-08-29 18:17:27,340 - root - INFO - Configuration file loaded successfully\n",
      "2025-08-29 18:17:27,341 - root - INFO - Configuration converted to Munch object\n",
      "2025-08-29 18:17:27,342 - root - INFO - Configuration loaded successfully\n",
      "2025-08-29 18:17:27,343 - root - INFO - Using DBrain dataset configuration\n",
      "2025-08-29 18:17:27,344 - root - INFO - DBrainDataLoader initialized - nii_path: /home/paco/d_brain/D_BRAIN_b2500_6_60_14_HCP_nless.nii, bvecs_path: /home/paco/d_brain/D_BRAIN_b2500_6_60_HCP_b_matrix.txt, bvalue: 2500, noise_sigma: 0.1\n",
      "2025-08-29 18:17:27,344 - root - INFO - DBrainDataLoader initialized with noise_sigma=0.1\n",
      "2025-08-29 18:17:27,345 - root - INFO - Loading data...\n",
      "2025-08-29 18:17:27,345 - root - INFO - Loading data from /home/paco/d_brain/D_BRAIN_b2500_6_60_14_HCP_nless.nii\n",
      "pixdim[0] (qfac) should be 1 (default) or -1; setting qfac to 1\n",
      "2025-08-29 18:17:27,346 - nibabel.global - INFO - pixdim[0] (qfac) should be 1 (default) or -1; setting qfac to 1\n",
      "2025-08-29 18:17:27,348 - root - INFO - Raw data loaded - shape: (128, 128, 97, 66), dtype: float64\n",
      "2025-08-29 18:17:27,594 - root - INFO - Raw data stats - min: 0.0000, max: 7462.0000, mean: 159.3769\n",
      "2025-08-29 18:17:27,595 - root - INFO - Normalizing spatial dimensions...\n",
      "2025-08-29 18:17:27,596 - root - INFO - Normalizing spatial dimensions for data of shape (128, 128, 97, 66)\n",
      "2025-08-29 18:17:28,385 - root - INFO - Spatial normalization completed - output shape: (128, 128, 97, 66)\n",
      "2025-08-29 18:17:28,483 - root - INFO - Normalized data stats - min: 0.0000, max: 1.0000, mean: 0.1140\n",
      "2025-08-29 18:17:28,484 - root - INFO - Adding Rician noise with sigma=0.1...\n",
      "2025-08-29 18:17:28,484 - root - INFO - Adding Rician noise with sigma=0.1 to data of shape (128, 128, 97, 66)\n",
      "2025-08-29 18:17:39,677 - root - INFO - Rician noise added - noisy data shape: (128, 128, 97, 66)\n",
      "2025-08-29 18:17:39,777 - root - INFO - Noisy data stats - min: 0.0000, max: 1.3255, mean: 0.2052\n",
      "2025-08-29 18:17:39,778 - root - INFO - Normalizing noisy data spatial dimensions...\n",
      "2025-08-29 18:17:39,778 - root - INFO - Normalizing spatial dimensions for data of shape (128, 128, 97, 66)\n",
      "2025-08-29 18:17:40,009 - root - INFO - Spatial normalization completed - output shape: (128, 128, 97, 66)\n",
      "2025-08-29 18:17:40,109 - root - INFO - Final noisy data stats - min: 0.0000, max: 1.0000, mean: 0.1626\n",
      "2025-08-29 18:17:40,109 - root - INFO - Data shape: (128, 128, 97, 66)\n",
      "2025-08-29 18:17:40,110 - root - INFO - Noisy data shape: (128, 128, 97, 66)\n",
      "2025-08-29 18:17:40,147 - root - INFO - Taking volumes from 6 to 16\n",
      "2025-08-29 18:17:40,148 - root - INFO - Noisy data shape: (128, 128, 96, 10)\n",
      "2025-08-29 18:17:40,164 - root - INFO - Data type: float32, Min: 0.0000, Max: 1.0000, Mean: 0.1654\n",
      "2025-08-29 18:17:40,164 - root - INFO - Initializing DataSet: data.shape=(128, 128, 96, 10), patch_size=(10, 32, 32, 32), step=4\n",
      "2025-08-29 18:17:40,165 - root - INFO - Data transposed to: (10, 128, 128, 96)\n",
      "2025-08-29 18:17:40,166 - root - INFO - Creating sliding windows: patch_size=(10, 32, 32, 32), step=4\n"
     ]
    }
   ],
   "source": [
    "main(\"dbrain\")\n",
    "\n",
    "# metrics\n",
    "\n",
    "## mds2s\n",
    "### 0.1 {'psnr': 20.75483775311783, 'ssim': 0.3659183382987976, 'mse': 0.008404584049680605}\n",
    "\n",
    "## drcnet\n",
    "### 0.1 {'psnr': 21.002585178163354, 'ssim': 0.3720719814300537, 'mse': 0.00793855544179678}"
   ]
  },
  {
   "cell_type": "code",
   "execution_count": null,
   "id": "dc6edbad-c311-450d-a1c5-cafb96646c81",
   "metadata": {},
   "outputs": [],
   "source": []
  }
 ],
 "metadata": {
  "kernelspec": {
   "display_name": "env-torch",
   "language": "python",
   "name": "env-torch"
  },
  "language_info": {
   "codemirror_mode": {
    "name": "ipython",
    "version": 3
   },
   "file_extension": ".py",
   "mimetype": "text/x-python",
   "name": "python",
   "nbconvert_exporter": "python",
   "pygments_lexer": "ipython3",
   "version": "3.10.16"
  },
  "widgets": {
   "application/vnd.jupyter.widget-state+json": {
    "state": {},
    "version_major": 2,
    "version_minor": 0
   }
  }
 },
 "nbformat": 4,
 "nbformat_minor": 5
}
