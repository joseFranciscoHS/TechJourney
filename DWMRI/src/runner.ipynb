{
 "cells": [
  {
   "cell_type": "code",
   "execution_count": 1,
   "id": "15956e2b-7a01-442f-9cbc-4054100d102a",
   "metadata": {},
   "outputs": [
    {
     "data": {
      "text/plain": [
       "'2.6.0+cu124'"
      ]
     },
     "execution_count": 1,
     "metadata": {},
     "output_type": "execute_result"
    }
   ],
   "source": [
    "import torch\n",
    "torch.__version__"
   ]
  },
  {
   "cell_type": "code",
   "execution_count": 2,
   "id": "263915cf-945f-4487-99be-ba8d5799401f",
   "metadata": {},
   "outputs": [
    {
     "name": "stderr",
     "output_type": "stream",
     "text": [
      "/home/paco/vqvae/env-torch/lib/python3.10/site-packages/tqdm/auto.py:21: TqdmWarning: IProgress not found. Please update jupyter and ipywidgets. See https://ipywidgets.readthedocs.io/en/stable/user_install.html\n",
      "  from .autonotebook import tqdm as notebook_tqdm\n"
     ]
    }
   ],
   "source": [
    "from drcnet.run import main"
   ]
  },
  {
   "cell_type": "code",
   "execution_count": 3,
   "id": "0d639354-0ee6-48f9-ba81-51e9240cc764",
   "metadata": {},
   "outputs": [
    {
     "name": "stderr",
     "output_type": "stream",
     "text": [
      "2025-07-21 22:05:44,827 - root - INFO - Logging configured - level: INFO, file: logs/training_20250721_220544.log\n",
      "2025-07-21 22:05:44,828 - root - INFO - Starting training with dataset: dbrain\n",
      "2025-07-21 22:05:44,829 - root - INFO - Loading config from: /home/paco/TechJourney/TechJourney/DWMRI/src/drcnet/config.yaml\n",
      "2025-07-21 22:05:44,829 - root - INFO - Loading configuration from: /home/paco/TechJourney/TechJourney/DWMRI/src/drcnet/config.yaml\n",
      "2025-07-21 22:05:44,836 - root - INFO - Configuration file loaded successfully\n",
      "2025-07-21 22:05:44,837 - root - INFO - Configuration converted to Munch object\n",
      "2025-07-21 22:05:44,837 - root - INFO - Configuration loaded successfully\n",
      "2025-07-21 22:05:44,838 - root - INFO - Using DBrain dataset configuration\n",
      "2025-07-21 22:05:44,838 - root - INFO - DBrainDataLoader initialized - nii_path: /home/paco/d_brain/D_BRAIN_b2500_6_60_14_HCP_nless.nii, bvecs_path: /home/paco/d_brain/D_BRAIN_b2500_6_60_HCP_b_matrix.txt, bvalue: 2500, noise_sigma: 0.01\n",
      "2025-07-21 22:05:44,838 - root - INFO - DBrainDataLoader initialized with noise_sigma=0.01\n",
      "2025-07-21 22:05:44,839 - root - INFO - Loading data...\n",
      "2025-07-21 22:05:44,840 - root - INFO - Loading data from /home/paco/d_brain/D_BRAIN_b2500_6_60_14_HCP_nless.nii\n",
      "pixdim[0] (qfac) should be 1 (default) or -1; setting qfac to 1\n",
      "2025-07-21 22:05:44,841 - nibabel.global - INFO - pixdim[0] (qfac) should be 1 (default) or -1; setting qfac to 1\n",
      "2025-07-21 22:05:44,843 - root - INFO - Raw data loaded - shape: (128, 128, 97, 66), dtype: float64\n",
      "2025-07-21 22:05:45,101 - root - INFO - Raw data stats - min: 0.0000, max: 7462.0000, mean: 159.3769\n",
      "2025-07-21 22:05:45,102 - root - INFO - Normalizing spatial dimensions...\n",
      "2025-07-21 22:05:45,103 - root - INFO - Normalizing spatial dimensions for data of shape (128, 128, 97, 66)\n",
      "2025-07-21 22:05:45,939 - root - INFO - Spatial normalization completed - output shape: (128, 128, 97, 66)\n",
      "2025-07-21 22:05:46,043 - root - INFO - Normalized data stats - min: 0.0000, max: 1.0000, mean: 0.1140\n",
      "2025-07-21 22:05:46,044 - root - INFO - Adding Rician noise with sigma=0.01...\n",
      "2025-07-21 22:05:46,044 - root - INFO - Adding Rician noise with sigma=0.01 to data of shape (128, 128, 97, 66)\n",
      "2025-07-21 22:05:57,004 - root - INFO - Rician noise added - noisy data shape: (128, 128, 97, 66)\n",
      "2025-07-21 22:05:57,113 - root - INFO - Noisy data stats - min: 0.0000, max: 1.0321, mean: 0.1215\n",
      "2025-07-21 22:05:57,114 - root - INFO - Normalizing noisy data spatial dimensions...\n",
      "2025-07-21 22:05:57,114 - root - INFO - Normalizing spatial dimensions for data of shape (128, 128, 97, 66)\n",
      "2025-07-21 22:05:57,361 - root - INFO - Spatial normalization completed - output shape: (128, 128, 97, 66)\n",
      "2025-07-21 22:05:57,471 - root - INFO - Final noisy data stats - min: 0.0000, max: 1.0000, mean: 0.1209\n",
      "2025-07-21 22:05:57,472 - root - INFO - Data shape: (128, 128, 97, 66)\n",
      "2025-07-21 22:05:57,472 - root - INFO - Noisy data shape: (128, 128, 97, 66)\n",
      "2025-07-21 22:05:57,510 - root - INFO - Taking volumes from 6 to 16\n",
      "2025-07-21 22:05:57,510 - root - INFO - Noisy data shape: (128, 128, 97, 10)\n",
      "2025-07-21 22:05:57,529 - root - INFO - Data type: float32, Min: 0.0000, Max: 1.0000, Mean: 0.1210\n",
      "2025-07-21 22:05:57,529 - root - INFO - Initializing DataSet: data.shape=(128, 128, 97, 10), take_volume_idx=0, patch_size=(10, 32, 32, 32), step=16\n",
      "2025-07-21 22:05:57,530 - root - INFO - Creating sliding windows: patch_size=(10, 32, 32, 32), step=16\n",
      "2025-07-21 22:06:00,205 - root - INFO - Sliding windows reshaped to: (245, 10, 32, 32, 32)\n",
      "2025-07-21 22:06:00,206 - root - INFO - Created 245 windows of shape torch.Size([10, 32, 32, 32]).\n",
      "2025-07-21 22:06:00,207 - root - INFO - DataLoader created with batch_size=8, num_batches=31\n",
      "2025-07-21 22:06:00,208 - root - INFO - Initializing DenoiserNet model...\n",
      "2025-07-21 22:06:00,208 - root - INFO - Initializing DenoiserNet: input_channels=9, output_channels=1, groups=1, dense_convs=2, residual=True, base_filters=32\n",
      "2025-07-21 22:06:00,231 - root - INFO - Initializing GatedBlock: x_channels=32, h_channels=32, dense_convs=2, groups=1\n",
      "2025-07-21 22:06:00,233 - root - INFO - Initializing DenoisingBlock: in_channels=64, inner_channels=32, out_channels=32, inner_convolutions=2, residual=False\n",
      "2025-07-21 22:06:00,234 - root - INFO - Initializing FactorizedBlock: in_channels=96, out_channels=32, groups=1\n",
      "2025-07-21 22:06:00,235 - root - INFO - Initializing FactorizedBlock: in_channels=128, out_channels=32, groups=1\n",
      "2025-07-21 22:06:00,238 - root - INFO - Model initialized - in_channel: 9, out_channel: 1\n",
      "2025-07-21 22:06:00,238 - root - INFO - Total model parameters: 109954\n",
      "2025-07-21 22:06:00,239 - root - INFO - Setting up optimizer and scheduler...\n",
      "2025-07-21 22:06:01,272 - root - INFO - Optimizer: Adam(lr=0.0001)\n",
      "2025-07-21 22:06:01,273 - root - INFO - Training device: cpu\n",
      "2025-07-21 22:06:01,273 - root - INFO - Number of epochs: 1\n",
      "2025-07-21 22:06:01,274 - root - INFO - Checkpoint directory: drcnet/checkpoints/dbrain\n",
      "2025-07-21 22:06:01,275 - root - INFO - Starting training - device: cpu, epochs: 1\n",
      "2025-07-21 22:06:01,275 - root - INFO - Model device: cpu\n",
      "2025-07-21 22:06:01,277 - root - INFO - Model moved to device: cpu\n",
      "2025-07-21 22:06:01,278 - root - INFO - Using existing checkpoint directory: drcnet/checkpoints/dbrain/bvalue_2500/num_volumes_10/noise_sigma_0.01/learning_rate_0.0001\n",
      "2025-07-21 22:06:01,278 - root - INFO - Attempting to load checkpoint from: drcnet/checkpoints/dbrain/bvalue_2500/num_volumes_10/noise_sigma_0.01/learning_rate_0.0001/latest_checkpoint.pth\n",
      "2025-07-21 22:06:01,301 - root - INFO - Checkpoint loaded successfully: drcnet/checkpoints/dbrain/bvalue_2500/num_volumes_10/noise_sigma_0.01/learning_rate_0.0001/latest_checkpoint.pth\n",
      "2025-07-21 22:06:01,302 - root - INFO - Checkpoint details - epoch: 1, loss: 0.042665, best_loss: 0.042665\n",
      "2025-07-21 22:06:01,302 - root - INFO - No scheduler state in checkpoint\n",
      "2025-07-21 22:06:01,304 - root - INFO - Training starting from epoch: 1\n",
      "2025-07-21 22:06:01,304 - root - INFO - Best loss so far: 0.042665\n",
      "Training: 0it [00:00, ?it/s]\n",
      "2025-07-21 22:06:01,308 - root - INFO - Training completed successfully.\n",
      "2025-07-21 22:06:01,309 - root - INFO - Final best loss: 0.042665\n",
      "2025-07-21 22:06:01,309 - root - INFO - Total epochs trained: 0\n",
      "2025-07-21 22:06:01,310 - root - INFO - Training setup completed successfully\n",
      "2025-07-21 22:06:01,310 - root - INFO - Training completed. Log file: logs/training_20250721_220544.log\n"
     ]
    }
   ],
   "source": [
    "main(\"dbrain\")"
   ]
  },
  {
   "cell_type": "code",
   "execution_count": null,
   "id": "dc6edbad-c311-450d-a1c5-cafb96646c81",
   "metadata": {},
   "outputs": [],
   "source": []
  }
 ],
 "metadata": {
  "kernelspec": {
   "display_name": "env-torch",
   "language": "python",
   "name": "env-torch"
  },
  "language_info": {
   "codemirror_mode": {
    "name": "ipython",
    "version": 3
   },
   "file_extension": ".py",
   "mimetype": "text/x-python",
   "name": "python",
   "nbconvert_exporter": "python",
   "pygments_lexer": "ipython3",
   "version": "3.10.16"
  },
  "widgets": {
   "application/vnd.jupyter.widget-state+json": {
    "state": {},
    "version_major": 2,
    "version_minor": 0
   }
  }
 },
 "nbformat": 4,
 "nbformat_minor": 5
}
