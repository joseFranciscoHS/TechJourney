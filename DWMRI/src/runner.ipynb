{
 "cells": [
  {
   "cell_type": "code",
   "execution_count": 1,
   "id": "15956e2b-7a01-442f-9cbc-4054100d102a",
   "metadata": {},
   "outputs": [
    {
     "data": {
      "text/plain": [
       "'2.6.0+cu124'"
      ]
     },
     "execution_count": 1,
     "metadata": {},
     "output_type": "execute_result"
    }
   ],
   "source": [
    "import torch\n",
    "torch.__version__"
   ]
  },
  {
   "cell_type": "code",
   "execution_count": 2,
   "id": "263915cf-945f-4487-99be-ba8d5799401f",
   "metadata": {},
   "outputs": [
    {
     "name": "stderr",
     "output_type": "stream",
     "text": [
      "/home/paco/vqvae/env-torch/lib/python3.10/site-packages/tqdm/auto.py:21: TqdmWarning: IProgress not found. Please update jupyter and ipywidgets. See https://ipywidgets.readthedocs.io/en/stable/user_install.html\n",
      "  from .autonotebook import tqdm as notebook_tqdm\n"
     ]
    }
   ],
   "source": [
    "from drcnet.run import main"
   ]
  },
  {
   "cell_type": "code",
   "execution_count": null,
   "id": "0d639354-0ee6-48f9-ba81-51e9240cc764",
   "metadata": {},
   "outputs": [
    {
     "name": "stderr",
     "output_type": "stream",
     "text": [
      "2025-09-16 15:26:42,836 - root - INFO - Logging configured - level: INFO, file: logs/training_20250916_152642.log\n",
      "2025-09-16 15:26:42,838 - root - INFO - Starting training with dataset: dbrain\n",
      "2025-09-16 15:26:42,838 - root - INFO - Loading config from: /home/paco/TechJourney/TechJourney/DWMRI/src/drcnet/config.yaml\n",
      "2025-09-16 15:26:42,839 - root - INFO - Loading configuration from: /home/paco/TechJourney/TechJourney/DWMRI/src/drcnet/config.yaml\n",
      "2025-09-16 15:26:42,847 - root - INFO - Configuration file loaded successfully\n",
      "2025-09-16 15:26:42,848 - root - INFO - Configuration converted to Munch object\n",
      "2025-09-16 15:26:42,849 - root - INFO - Configuration loaded successfully\n",
      "2025-09-16 15:26:42,849 - root - INFO - Using DBrain dataset configuration\n",
      "2025-09-16 15:26:42,851 - root - INFO - DBrainDataLoader initialized - nii_path: /home/paco/d_brain/D_BRAIN_b2500_6_60_14_HCP_nless.nii, bvecs_path: /home/paco/d_brain/D_BRAIN_b2500_6_60_HCP_b_matrix.txt, bvalue: 2500, noise_sigma: 0.1\n",
      "2025-09-16 15:26:42,851 - root - INFO - DBrainDataLoader initialized with noise_sigma=0.1\n",
      "2025-09-16 15:26:42,852 - root - INFO - Loading data...\n",
      "2025-09-16 15:26:42,852 - root - INFO - Loading data from /home/paco/d_brain/D_BRAIN_b2500_6_60_14_HCP_nless.nii\n",
      "pixdim[0] (qfac) should be 1 (default) or -1; setting qfac to 1\n",
      "2025-09-16 15:26:42,854 - nibabel.global - INFO - pixdim[0] (qfac) should be 1 (default) or -1; setting qfac to 1\n",
      "2025-09-16 15:26:42,856 - root - INFO - Raw data loaded - shape: (128, 128, 97, 66), dtype: float64\n",
      "2025-09-16 15:26:43,117 - root - INFO - Raw data stats - min: 0.0000, max: 7462.0000, mean: 159.3769\n",
      "2025-09-16 15:26:43,117 - root - INFO - Normalizing spatial dimensions...\n",
      "2025-09-16 15:26:43,118 - root - INFO - Normalizing spatial dimensions for data of shape (128, 128, 97, 66)\n",
      "2025-09-16 15:26:43,906 - root - INFO - Spatial normalization completed - output shape: (128, 128, 97, 66)\n",
      "2025-09-16 15:26:44,004 - root - INFO - Normalized data stats - min: 0.0000, max: 1.0000, mean: 0.1140\n",
      "2025-09-16 15:26:44,005 - root - INFO - Adding Rician noise with sigma=0.1 to normalized data...\n",
      "2025-09-16 15:26:44,005 - root - INFO - Adding Rician noise to normalized data with sigma=0.1 to data of shape (128, 128, 97, 66)\n",
      "2025-09-16 15:26:55,195 - root - INFO - Rician noise added to normalized data - noisy data shape: (128, 128, 97, 66)\n",
      "2025-09-16 15:26:55,294 - root - INFO - Final noisy data stats - min: 0.0000, max: 1.0000, mean: 0.2051\n",
      "2025-09-16 15:26:55,294 - root - INFO - Data shape: (128, 128, 97, 66)\n",
      "2025-09-16 15:26:55,295 - root - INFO - Noisy data shape: (128, 128, 97, 66)\n",
      "2025-09-16 15:26:55,343 - root - INFO - Taking volumes from 6 to 16\n",
      "2025-09-16 15:26:55,344 - root - INFO - Noisy data shape: (128, 128, 96, 10)\n",
      "2025-09-16 15:26:55,360 - root - INFO - Data type: float32, Min: 0.0000, Max: 1.0000, Mean: 0.2069\n",
      "2025-09-16 15:26:55,360 - root - INFO - Initializing DataSet: data.shape=(128, 128, 96, 10), patch_size=(10, 48, 48, 48), step=16\n",
      "2025-09-16 15:26:55,361 - root - INFO - Data transposed to: (10, 128, 128, 96)\n",
      "2025-09-16 15:26:55,361 - root - INFO - Creating sliding windows (memory-efficient): patch_size=(10, 48, 48, 48), step=16\n",
      "2025-09-16 15:26:55,362 - root - INFO - Will generate 144 spatial patches with dimensions [6, 6, 4]\n",
      "2025-09-16 15:26:55,363 - root - INFO - Each patch will contain all 10 volumes\n",
      "2025-09-16 15:27:03,550 - root - INFO - Sliding windows generated: (144, 10, 48, 48, 48)\n",
      "2025-09-16 15:27:03,620 - root - INFO - Created 144 windows of shape torch.Size([10, 48, 48, 48]).\n",
      "2025-09-16 15:27:03,621 - root - INFO - Total training samples: 1,440 (windows: 144 × volumes: 10)\n",
      "2025-09-16 15:27:03,622 - root - INFO - DataLoader created with batch_size=16, num_batches=90\n",
      "2025-09-16 15:27:03,622 - root - INFO - Initializing DenoiserNet model...\n",
      "2025-09-16 15:27:03,623 - root - INFO - Initializing DenoiserNet: input_channels=9, output_channels=1, groups=4, dense_convs=3, residual=True, base_filters=64\n",
      "2025-09-16 15:27:03,644 - root - INFO - Initializing GatedBlock: x_channels=64, h_channels=64, dense_convs=3, groups=4\n",
      "2025-09-16 15:27:03,645 - root - INFO - Initializing DenoisingBlock: in_channels=128, inner_channels=64, out_channels=64, inner_convolutions=3, residual=False\n",
      "2025-09-16 15:27:03,646 - root - INFO - Initializing FactorizedBlock: in_channels=192, out_channels=64, groups=4\n",
      "2025-09-16 15:27:03,648 - root - INFO - Initializing FactorizedBlock: in_channels=256, out_channels=64, groups=4\n",
      "2025-09-16 15:27:03,650 - root - INFO - Initializing FactorizedBlock: in_channels=320, out_channels=64, groups=4\n",
      "2025-09-16 15:27:03,653 - root - INFO - DenoiserNet model created - Total parameters: 262,467, Trainable parameters: 262,467\n",
      "2025-09-16 15:27:03,654 - root - INFO - Model initialized - in_channel: 9, out_channel: 1\n",
      "2025-09-16 15:27:03,654 - root - INFO - Total model parameters: 262467\n",
      "2025-09-16 15:27:03,655 - root - INFO - Setting up multi-GPU training...\n",
      "2025-09-16 15:27:03,756 - root - WARNING - GPU 2 (NVIDIA GeForce RTX 2080) is imbalanced:\n",
      "2025-09-16 15:27:03,757 - root - WARNING -   Memory: 7.8GB vs 10.8GB (ratio: 0.72)\n",
      "2025-09-16 15:27:03,758 - root - WARNING -   Cores: 46 vs 68 (ratio: 0.68)\n",
      "2025-09-16 15:27:03,758 - root - WARNING - Excluding imbalanced GPUs: [2]\n",
      "2025-09-16 15:27:03,759 - root - WARNING - Using balanced GPUs: [0, 1]\n",
      "2025-09-16 15:27:03,760 - root - INFO - Using 2 GPUs: [0, 1]\n",
      "2025-09-16 15:27:03,760 - root - INFO - Available GPUs: 3\n",
      "2025-09-16 15:27:03,761 - root - INFO - Learning rate scaled: 0.0005 -> 0.000707 (factor: 1.41)\n",
      "2025-09-16 15:27:03,761 - root - INFO - Effective batch size: 16 -> 32 (per GPU × 2 GPUs)\n",
      "2025-09-16 15:27:03,762 - root - INFO - Setting up optimizer and scheduler...\n",
      "2025-09-16 15:27:04,728 - root - INFO - Optimizer: Adam(lr=0.000707)\n",
      "2025-09-16 15:27:04,730 - root - INFO - Effective batch size: 32 (per-GPU: 16)\n",
      "2025-09-16 15:27:04,730 - root - INFO - Scheduler: CosineAnnealingWarmRestarts(T_0=20, T_mult=2, eta_min=1e-05)\n",
      "2025-09-16 15:27:04,731 - root - INFO - Training device: cuda\n",
      "2025-09-16 15:27:04,731 - root - INFO - Number of epochs: 120\n",
      "2025-09-16 15:27:04,732 - root - INFO - Checkpoint directory: drcnet/checkpoints/dbrain\n",
      "2025-09-16 15:27:04,734 - root - INFO - Starting training - device: cuda, epochs: 120\n",
      "2025-09-16 15:27:04,734 - root - INFO - Model device: cpu\n",
      "2025-09-16 15:27:04,848 - root - INFO - Model moved to device: cuda\n",
      "2025-09-16 15:27:04,848 - root - INFO - Using existing checkpoint directory: drcnet/checkpoints/dbrain/bvalue_2500/num_volumes_10/noise_sigma_0.1/learning_rate_0.0005\n",
      "2025-09-16 15:27:04,849 - root - INFO - Attempting to load checkpoint from: drcnet/checkpoints/dbrain/bvalue_2500/num_volumes_10/noise_sigma_0.1/learning_rate_0.0005/latest_checkpoint.pth\n",
      "2025-09-16 15:27:04,850 - root - INFO - No checkpoint found at drcnet/checkpoints/dbrain/bvalue_2500/num_volumes_10/noise_sigma_0.1/learning_rate_0.0005/latest_checkpoint.pth, starting training from scratch\n",
      "2025-09-16 15:27:04,850 - root - INFO - Training starting from epoch: 0\n",
      "2025-09-16 15:27:04,851 - root - INFO - Best loss so far: inf\n",
      "2025-09-16 15:27:04,855 - root - INFO - Starting epoch 1/120\n",
      "2025-09-16 15:27:04,856 - root - INFO - Current learning rate: 0.000707\n"
     ]
    }
   ],
   "source": [
    "main(\"dbrain\")\n",
    "\n",
    "# metrics\n",
    "\n",
    "## mds2s\n",
    "### 0.1 {'psnr': 20.75483775311783, 'ssim': 0.3659183382987976, 'mse': 0.008404584049680605}\n",
    "\n",
    "## drcnet\n",
    "### 0.1 {'psnr': 21.002585178163354, 'ssim': 0.3720719814300537, 'mse': 0.00793855544179678}"
   ]
  },
  {
   "cell_type": "code",
   "execution_count": null,
   "id": "dc6edbad-c311-450d-a1c5-cafb96646c81",
   "metadata": {},
   "outputs": [],
   "source": []
  }
 ],
 "metadata": {
  "kernelspec": {
   "display_name": "env-torch",
   "language": "python",
   "name": "env-torch"
  },
  "language_info": {
   "codemirror_mode": {
    "name": "ipython",
    "version": 3
   },
   "file_extension": ".py",
   "mimetype": "text/x-python",
   "name": "python",
   "nbconvert_exporter": "python",
   "pygments_lexer": "ipython3",
   "version": "3.10.16"
  },
  "widgets": {
   "application/vnd.jupyter.widget-state+json": {
    "state": {},
    "version_major": 2,
    "version_minor": 0
   }
  }
 },
 "nbformat": 4,
 "nbformat_minor": 5
}
