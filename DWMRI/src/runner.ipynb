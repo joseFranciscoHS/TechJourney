{
 "cells": [
  {
   "cell_type": "code",
   "execution_count": 1,
   "id": "15956e2b-7a01-442f-9cbc-4054100d102a",
   "metadata": {},
   "outputs": [
    {
     "data": {
      "text/plain": [
       "'2.6.0+cu124'"
      ]
     },
     "execution_count": 1,
     "metadata": {},
     "output_type": "execute_result"
    }
   ],
   "source": [
    "import torch\n",
    "torch.__version__"
   ]
  },
  {
   "cell_type": "code",
   "execution_count": 2,
   "id": "263915cf-945f-4487-99be-ba8d5799401f",
   "metadata": {},
   "outputs": [
    {
     "name": "stderr",
     "output_type": "stream",
     "text": [
      "/home/paco/vqvae/env-torch/lib/python3.10/site-packages/tqdm/auto.py:21: TqdmWarning: IProgress not found. Please update jupyter and ipywidgets. See https://ipywidgets.readthedocs.io/en/stable/user_install.html\n",
      "  from .autonotebook import tqdm as notebook_tqdm\n"
     ]
    }
   ],
   "source": [
    "from drcnet_sinusoidal_volume_encoder.run import main"
   ]
  },
  {
   "cell_type": "code",
   "execution_count": null,
   "id": "0d639354-0ee6-48f9-ba81-51e9240cc764",
   "metadata": {},
   "outputs": [
    {
     "name": "stderr",
     "output_type": "stream",
     "text": [
      "2025-09-22 20:17:35,424 - root - INFO - Logging configured - level: INFO, file: logs/training_20250922_201735.log\n",
      "2025-09-22 20:17:35,425 - root - INFO - Starting training with dataset: dbrain\n",
      "2025-09-22 20:17:35,425 - root - INFO - Loading config from: /home/paco/TechJourney/TechJourney/DWMRI/src/drcnet_sinusoidal_volume_encoder/config.yaml\n",
      "2025-09-22 20:17:35,427 - root - INFO - Loading configuration from: /home/paco/TechJourney/TechJourney/DWMRI/src/drcnet_sinusoidal_volume_encoder/config.yaml\n",
      "2025-09-22 20:17:35,434 - root - INFO - Configuration file loaded successfully\n",
      "2025-09-22 20:17:35,435 - root - INFO - Configuration converted to Munch object\n",
      "2025-09-22 20:17:35,436 - root - INFO - Configuration loaded successfully\n",
      "2025-09-22 20:17:35,436 - root - INFO - Using DBrain dataset configuration\n",
      "2025-09-22 20:17:35,437 - root - INFO - DBrainDataLoader initialized - nii_path: /home/paco/d_brain/D_BRAIN_b2500_6_60_14_HCP_nless.nii, bvecs_path: /home/paco/d_brain/D_BRAIN_b2500_6_60_HCP_b_matrix.txt, bvalue: 2500, noise_sigma: 0.1\n",
      "2025-09-22 20:17:35,437 - root - INFO - DBrainDataLoader initialized with noise_sigma=0.1\n",
      "2025-09-22 20:17:35,438 - root - INFO - Loading data...\n",
      "2025-09-22 20:17:35,438 - root - INFO - Loading data from /home/paco/d_brain/D_BRAIN_b2500_6_60_14_HCP_nless.nii\n",
      "pixdim[0] (qfac) should be 1 (default) or -1; setting qfac to 1\n",
      "2025-09-22 20:17:35,441 - nibabel.global - INFO - pixdim[0] (qfac) should be 1 (default) or -1; setting qfac to 1\n",
      "2025-09-22 20:17:35,442 - root - INFO - Raw data loaded - shape: (128, 128, 97, 66), dtype: float64\n",
      "2025-09-22 20:17:35,735 - root - INFO - Raw data stats - min: 0.0000, max: 7462.0000, mean: 159.3769\n",
      "2025-09-22 20:17:35,735 - root - INFO - Normalizing spatial dimensions...\n",
      "2025-09-22 20:17:35,736 - root - INFO - Normalizing spatial dimensions for data of shape (128, 128, 97, 66)\n",
      "2025-09-22 20:17:36,566 - root - INFO - Spatial normalization completed - output shape: (128, 128, 97, 66)\n",
      "2025-09-22 20:17:36,675 - root - INFO - Normalized data stats - min: 0.0000, max: 1.0000, mean: 0.1140\n",
      "2025-09-22 20:17:36,676 - root - INFO - Adding Rician noise with sigma=0.1 to normalized data...\n",
      "2025-09-22 20:17:36,677 - root - INFO - Adding Rician noise to normalized data with sigma=0.1 to data of shape (128, 128, 97, 66)\n",
      "2025-09-22 20:17:47,904 - root - INFO - Rician noise added to normalized data - noisy data shape: (128, 128, 97, 66)\n",
      "2025-09-22 20:17:48,012 - root - INFO - Final noisy data stats - min: 0.0000, max: 1.0000, mean: 0.2051\n",
      "2025-09-22 20:17:48,012 - root - INFO - Data shape: (128, 128, 97, 66)\n",
      "2025-09-22 20:17:48,013 - root - INFO - Noisy data shape: (128, 128, 97, 66)\n",
      "2025-09-22 20:17:48,062 - root - INFO - Taking volumes from 6 to 16\n",
      "2025-09-22 20:17:48,063 - root - INFO - Noisy data shape: (128, 128, 96, 10)\n",
      "2025-09-22 20:17:48,080 - root - INFO - Data type: float32, Min: 0.0000, Max: 1.0000, Mean: 0.2069\n",
      "2025-09-22 20:17:48,081 - root - INFO - Original data shape: (128, 128, 96, 10)\n",
      "2025-09-22 20:17:48,098 - root - INFO - Data type: float32, Min: 0.0000, Max: 1.0000, Mean: 0.1157\n",
      "2025-09-22 20:17:48,099 - root - INFO - Initializing DataSet: data.shape=(128, 128, 96, 10), patch_size=(10, 8, 8, 8), step=8\n",
      "2025-09-22 20:17:48,100 - root - INFO - Data transposed to: (10, 128, 128, 96)\n",
      "2025-09-22 20:17:48,100 - root - INFO - Creating sliding windows (memory-efficient): patch_size=(10, 8, 8, 8), step=8\n",
      "2025-09-22 20:17:48,101 - root - INFO - Will generate 3,072 spatial patches with dimensions [16, 16, 12]\n",
      "2025-09-22 20:17:48,101 - root - INFO - Each patch will contain all 10 volumes\n",
      "2025-09-22 20:17:48,207 - root - INFO - Sliding windows generated: (3072, 10, 8, 8, 8)\n",
      "2025-09-22 20:17:48,215 - root - INFO - Created 3072 windows of shape torch.Size([10, 8, 8, 8]).\n",
      "2025-09-22 20:17:48,215 - root - INFO - Total training samples: 30,720 (windows: 3,072 × volumes: 10)\n",
      "2025-09-22 20:17:48,216 - root - INFO - DataLoader created with batch_size=8, num_batches=3840\n",
      "2025-09-22 20:17:48,217 - root - INFO - Initializing DenoiserNet model...\n",
      "2025-09-22 20:17:48,217 - root - INFO - Initializing DenoiserNet: input_channels=9, output_channels=1, groups=4, dense_convs=3, residual=True, base_filters=32, num_volumes=10, use_sinusoidal_encoding=True\n",
      "2025-09-22 20:17:48,218 - root - INFO - Initializing SinusoidalVolumeEncoder: num_volumes=10, embedding_dim=64, max_freq=10000.0, encoding_scale=0.1\n",
      "2025-09-22 20:17:48,239 - root - INFO - SinusoidalVolumeEncoder created with shape: torch.Size([10, 64])\n",
      "2025-09-22 20:17:48,240 - root - INFO - Volume 0 encoding sample: [0.0, 1.0, 0.0, 1.0, 0.0, 1.0, 0.0, 1.0]\n",
      "2025-09-22 20:17:48,241 - root - INFO - Volume 1 encoding sample: [0.8414709568023682, 0.5403023362159729, 0.6815613508224487, 0.7317609786987305, 0.5331684350967407, 0.8460090756416321, 0.40930894017219543, 0.9123958349227905]\n",
      "2025-09-22 20:17:48,241 - root - INFO - Added SinusoidalVolumeEncoder with 10 volumes and 64 embedding dimensions\n",
      "2025-09-22 20:17:48,244 - root - INFO - Initializing GatedBlock: x_channels=32, h_channels=32, dense_convs=3, groups=4\n",
      "2025-09-22 20:17:48,245 - root - INFO - Initializing DenoisingBlock: in_channels=64, inner_channels=32, out_channels=32, inner_convolutions=3, residual=False\n",
      "2025-09-22 20:17:48,246 - root - INFO - Initializing FactorizedBlock: in_channels=96, out_channels=32, groups=4\n",
      "2025-09-22 20:17:48,248 - root - INFO - Initializing FactorizedBlock: in_channels=128, out_channels=32, groups=4\n",
      "2025-09-22 20:17:48,250 - root - INFO - Initializing FactorizedBlock: in_channels=160, out_channels=32, groups=4\n",
      "2025-09-22 20:17:48,253 - root - INFO - DenoiserNet model created - Total parameters: 71,978, Trainable parameters: 71,978\n",
      "2025-09-22 20:17:48,253 - root - INFO - Model initialized - in_channel: 9, out_channel: 1\n",
      "2025-09-22 20:17:48,254 - root - INFO - Total model parameters: 71978\n",
      "2025-09-22 20:17:48,255 - root - INFO - Setting up multi-GPU training...\n",
      "2025-09-22 20:17:48,348 - root - WARNING - GPU 2 (NVIDIA GeForce RTX 2080) is imbalanced:\n",
      "2025-09-22 20:17:48,349 - root - WARNING -   Memory: 7.8GB vs 10.8GB (ratio: 0.72)\n",
      "2025-09-22 20:17:48,350 - root - WARNING -   Cores: 46 vs 68 (ratio: 0.68)\n",
      "2025-09-22 20:17:48,350 - root - WARNING - Excluding imbalanced GPUs: [2]\n",
      "2025-09-22 20:17:48,351 - root - WARNING - Using balanced GPUs: [0, 1]\n",
      "2025-09-22 20:17:48,352 - root - INFO - Using 2 GPUs: [0, 1]\n",
      "2025-09-22 20:17:48,353 - root - INFO - Available GPUs: 3\n",
      "2025-09-22 20:17:48,353 - root - INFO - Learning rate scaled: 0.0009 -> 0.001273 (factor: 1.41)\n",
      "2025-09-22 20:17:48,354 - root - INFO - Effective batch size: 8 -> 16 (per GPU × 2 GPUs)\n",
      "2025-09-22 20:17:48,354 - root - INFO - Setting up optimizer and scheduler...\n",
      "2025-09-22 20:17:49,308 - root - INFO - Optimizer: Adam(lr=0.001273)\n",
      "2025-09-22 20:17:49,310 - root - INFO - Effective batch size: 16 (per-GPU: 8)\n",
      "2025-09-22 20:17:49,310 - root - INFO - Training device: cuda\n",
      "2025-09-22 20:17:49,311 - root - INFO - Number of epochs: 20\n",
      "2025-09-22 20:17:49,311 - root - INFO - Checkpoint directory: drcnet_sinusoidal_volume_encoder/checkpoints/dbrain\n",
      "2025-09-22 20:17:49,312 - root - INFO - Starting training - device: cuda, epochs: 20\n",
      "2025-09-22 20:17:49,313 - root - INFO - Model device: cpu\n",
      "2025-09-22 20:17:49,426 - root - INFO - Model moved to device: cuda\n",
      "2025-09-22 20:17:49,427 - root - INFO - Using existing checkpoint directory: drcnet_sinusoidal_volume_encoder/checkpoints/dbrain/bvalue_2500/num_volumes_10/noise_sigma_0.1/learning_rate_0.0009\n",
      "2025-09-22 20:17:49,427 - root - INFO - Attempting to load checkpoint from: drcnet_sinusoidal_volume_encoder/checkpoints/dbrain/bvalue_2500/num_volumes_10/noise_sigma_0.1/learning_rate_0.0009/latest_checkpoint.pth\n",
      "2025-09-22 20:17:49,474 - root - INFO - Detected DataParallel checkpoint, removing 'module.' prefix\n",
      "2025-09-22 20:17:49,475 - root - WARNING - Missing keys in checkpoint: 68 keys\n",
      "2025-09-22 20:17:49,476 - root - WARNING - First 10 missing keys: ['module.volume_encoder.pe', 'module.input_block.conv.weight', 'module.input_block.conv.bias', 'module.input_block.act.weight', 'module.input_attention.channel_attention.fc.0.weight', 'module.input_attention.channel_attention.fc.2.weight', 'module.input_attention.spatial_attention.conv.weight', 'module.down_block.conv.weight', 'module.down_block.conv.bias', 'module.down_block.act.weight']\n",
      "2025-09-22 20:17:49,477 - root - WARNING - Unexpected keys in checkpoint: 68 keys\n",
      "2025-09-22 20:17:49,478 - root - WARNING - First 10 unexpected keys: ['volume_encoder.pe', 'input_block.conv.weight', 'input_block.conv.bias', 'input_block.act.weight', 'input_attention.channel_attention.fc.0.weight', 'input_attention.channel_attention.fc.2.weight', 'input_attention.spatial_attention.conv.weight', 'down_block.conv.weight', 'down_block.conv.bias', 'down_block.act.weight']\n",
      "2025-09-22 20:17:49,479 - root - INFO - Checkpoint loaded successfully: drcnet_sinusoidal_volume_encoder/checkpoints/dbrain/bvalue_2500/num_volumes_10/noise_sigma_0.1/learning_rate_0.0009/latest_checkpoint.pth\n",
      "2025-09-22 20:17:49,480 - root - INFO - Checkpoint details - epoch: 1, loss: 0.072740, best_loss: 0.072740\n",
      "2025-09-22 20:17:49,480 - root - INFO - No scheduler state in checkpoint\n",
      "2025-09-22 20:17:49,481 - root - INFO - Training starting from epoch: 1\n",
      "2025-09-22 20:17:49,482 - root - INFO - Best loss so far: 0.072740\n",
      "2025-09-22 20:17:49,485 - root - INFO - Starting epoch 2/20\n",
      "2025-09-22 20:17:49,486 - root - INFO - Current learning rate: 0.001273\n"
     ]
    }
   ],
   "source": [
    "main(\"dbrain\")\n",
    "\n",
    "# metrics\n",
    "\n",
    "## mds2s\n",
    "### 0.1 {'psnr': 20.75483775311783, 'ssim': 0.3659183382987976, 'mse': 0.008404584049680605}\n",
    "\n",
    "## drcnet\n",
    "### 0.1 {'psnr': 21.002585178163354, 'ssim': 0.3720719814300537, 'mse': 0.00793855544179678}\n",
    "\n",
    "## drcnet sinusoidal encoding with CBAM and mean input -- lr 0.001\n",
    "### {'psnr': 19.70985296358925, 'ssim': 0.3897143304347992, 'mse': 0.010690910741686821}\n",
    "\n"
   ]
  },
  {
   "cell_type": "code",
   "execution_count": null,
   "id": "dc6edbad-c311-450d-a1c5-cafb96646c81",
   "metadata": {},
   "outputs": [],
   "source": []
  }
 ],
 "metadata": {
  "kernelspec": {
   "display_name": "env-torch",
   "language": "python",
   "name": "env-torch"
  },
  "language_info": {
   "codemirror_mode": {
    "name": "ipython",
    "version": 3
   },
   "file_extension": ".py",
   "mimetype": "text/x-python",
   "name": "python",
   "nbconvert_exporter": "python",
   "pygments_lexer": "ipython3",
   "version": "3.10.16"
  },
  "widgets": {
   "application/vnd.jupyter.widget-state+json": {
    "state": {},
    "version_major": 2,
    "version_minor": 0
   }
  }
 },
 "nbformat": 4,
 "nbformat_minor": 5
}
