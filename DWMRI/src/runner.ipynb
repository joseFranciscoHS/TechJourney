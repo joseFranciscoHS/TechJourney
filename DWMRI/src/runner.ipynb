{
 "cells": [
  {
   "cell_type": "code",
   "execution_count": 1,
   "id": "15956e2b-7a01-442f-9cbc-4054100d102a",
   "metadata": {},
   "outputs": [
    {
     "data": {
      "text/plain": [
       "'2.6.0+cu124'"
      ]
     },
     "execution_count": 1,
     "metadata": {},
     "output_type": "execute_result"
    }
   ],
   "source": [
    "import torch\n",
    "torch.__version__"
   ]
  },
  {
   "cell_type": "code",
   "execution_count": 2,
   "id": "263915cf-945f-4487-99be-ba8d5799401f",
   "metadata": {},
   "outputs": [
    {
     "name": "stderr",
     "output_type": "stream",
     "text": [
      "/home/paco/vqvae/env-torch/lib/python3.10/site-packages/tqdm/auto.py:21: TqdmWarning: IProgress not found. Please update jupyter and ipywidgets. See https://ipywidgets.readthedocs.io/en/stable/user_install.html\n",
      "  from .autonotebook import tqdm as notebook_tqdm\n"
     ]
    }
   ],
   "source": [
    "from multiscale.run import main"
   ]
  },
  {
   "cell_type": "code",
   "execution_count": 3,
   "id": "0d639354-0ee6-48f9-ba81-51e9240cc764",
   "metadata": {},
   "outputs": [
    {
     "name": "stderr",
     "output_type": "stream",
     "text": [
      "2025-09-25 20:36:56,259 - root - INFO - Logging configured - level: INFO, file: logs/training_20250925_203656.log\n",
      "2025-09-25 20:36:56,260 - root - INFO - Starting training with dataset: dbrain\n",
      "2025-09-25 20:36:56,261 - root - INFO - Model architecture: MultiScaleDetailNet\n",
      "2025-09-25 20:36:56,262 - root - INFO - Loss function: EdgeAwareLoss\n",
      "2025-09-25 20:36:56,262 - root - INFO - Mixed precision: Enabled\n",
      "2025-09-25 20:36:56,263 - root - INFO - Gradient accumulation steps: 1\n",
      "2025-09-25 20:36:56,263 - root - INFO - Loading config from: /home/paco/TechJourney/TechJourney/DWMRI/src/multiscale/config.yaml\n",
      "2025-09-25 20:36:56,264 - root - INFO - Loading configuration from: /home/paco/TechJourney/TechJourney/DWMRI/src/multiscale/config.yaml\n",
      "2025-09-25 20:36:56,275 - root - INFO - Configuration file loaded successfully\n",
      "2025-09-25 20:36:56,277 - root - INFO - Configuration converted to Munch object\n",
      "2025-09-25 20:36:56,277 - root - INFO - Configuration loaded successfully\n",
      "2025-09-25 20:36:56,278 - root - INFO - Using DBrain dataset configuration\n",
      "2025-09-25 20:36:56,279 - root - INFO - DBrainDataLoader initialized - nii_path: /home/paco/d_brain/D_BRAIN_b2500_6_60_14_HCP_nless.nii, bvecs_path: /home/paco/d_brain/D_BRAIN_b2500_6_60_HCP_b_matrix.txt, bvalue: 2500, noise_sigma: 0.1\n",
      "2025-09-25 20:36:56,279 - root - INFO - DBrainDataLoader initialized with noise_sigma=0.1\n",
      "2025-09-25 20:36:56,280 - root - INFO - Loading data...\n",
      "2025-09-25 20:36:56,280 - root - INFO - Loading data from /home/paco/d_brain/D_BRAIN_b2500_6_60_14_HCP_nless.nii\n",
      "pixdim[0] (qfac) should be 1 (default) or -1; setting qfac to 1\n",
      "2025-09-25 20:36:56,283 - nibabel.global - INFO - pixdim[0] (qfac) should be 1 (default) or -1; setting qfac to 1\n",
      "2025-09-25 20:36:56,285 - root - INFO - Raw data loaded - shape: (128, 128, 97, 66), dtype: float64\n",
      "2025-09-25 20:36:56,580 - root - INFO - Raw data stats - min: 0.0000, max: 7462.0000, mean: 159.3769\n",
      "2025-09-25 20:36:56,581 - root - INFO - Normalizing spatial dimensions...\n",
      "2025-09-25 20:36:56,581 - root - INFO - Normalizing spatial dimensions for data of shape (128, 128, 97, 66)\n",
      "2025-09-25 20:36:57,437 - root - INFO - Spatial normalization completed - output shape: (128, 128, 97, 66)\n",
      "2025-09-25 20:36:57,545 - root - INFO - Normalized data stats - min: 0.0000, max: 1.0000, mean: 0.1140\n",
      "2025-09-25 20:36:57,546 - root - INFO - Adding Rician noise with sigma=0.1 to normalized data...\n",
      "2025-09-25 20:36:57,546 - root - INFO - Adding Rician noise to normalized data with sigma=0.1 to data of shape (128, 128, 97, 66)\n",
      "2025-09-25 20:37:08,949 - root - INFO - Rician noise added to normalized data - noisy data shape: (128, 128, 97, 66)\n",
      "2025-09-25 20:37:09,057 - root - INFO - Final noisy data stats - min: 0.0000, max: 1.0000, mean: 0.2051\n",
      "2025-09-25 20:37:09,058 - root - INFO - Data shape: (128, 128, 97, 66)\n",
      "2025-09-25 20:37:09,059 - root - INFO - Noisy data shape: (128, 128, 97, 66)\n",
      "2025-09-25 20:37:09,110 - root - INFO - Taking volumes from 6 to 16\n",
      "2025-09-25 20:37:09,111 - root - INFO - Noisy data shape: (128, 128, 96, 10)\n",
      "2025-09-25 20:37:09,127 - root - INFO - Data type: float32, Min: 0.0000, Max: 1.0000, Mean: 0.2069\n",
      "2025-09-25 20:37:09,128 - root - INFO - Original data shape: (128, 128, 96, 10)\n",
      "2025-09-25 20:37:09,145 - root - INFO - Data type: float32, Min: 0.0000, Max: 1.0000, Mean: 0.1157\n",
      "2025-09-25 20:37:09,145 - root - INFO - Initializing DataSet: data.shape=(128, 128, 96, 10), patch_size=(10, 32, 32, 32), step=16\n",
      "2025-09-25 20:37:09,146 - root - INFO - Data transposed to: (10, 128, 128, 96)\n",
      "2025-09-25 20:37:09,147 - root - INFO - Creating sliding windows (memory-efficient): patch_size=(10, 32, 32, 32), step=16\n",
      "2025-09-25 20:37:09,148 - root - INFO - Will generate 245 spatial patches with dimensions [7, 7, 5]\n",
      "2025-09-25 20:37:09,148 - root - INFO - Each patch will contain all 10 volumes\n",
      "2025-09-25 20:37:12,059 - root - INFO - Sliding windows generated: (245, 10, 32, 32, 32)\n",
      "2025-09-25 20:37:12,092 - root - INFO - Created 245 windows of shape torch.Size([10, 32, 32, 32]).\n",
      "2025-09-25 20:37:12,093 - root - INFO - Total training samples: 2,450 (windows: 245 × volumes: 10)\n",
      "2025-09-25 20:37:12,094 - root - INFO - DataLoader created with batch_size=8, num_batches=307\n",
      "2025-09-25 20:37:12,095 - root - INFO - Initializing MultiScaleDetailNet model...\n",
      "2025-09-25 20:37:12,096 - root - INFO - Initializing MultiScaleDetailNet: input_channels=9, output_channels=1, groups=1, dense_convs=2, residual=True, base_filters=32, num_volumes=10, use_sinusoidal_encoding=True\n",
      "2025-09-25 20:37:12,097 - root - INFO - Initializing SinusoidalVolumeEncoder: num_volumes=10, embedding_dim=64, max_freq=10000.0, encoding_scale=0.1\n",
      "2025-09-25 20:37:12,119 - root - INFO - SinusoidalVolumeEncoder created with shape: torch.Size([10, 64])\n",
      "2025-09-25 20:37:12,120 - root - INFO - Volume 0 encoding sample: [0.0, 1.0, 0.0, 1.0, 0.0, 1.0, 0.0, 1.0]\n",
      "2025-09-25 20:37:12,121 - root - INFO - Volume 1 encoding sample: [0.8414709568023682, 0.5403023362159729, 0.6815613508224487, 0.7317609786987305, 0.5331684350967407, 0.8460090756416321, 0.40930894017219543, 0.9123958349227905]\n",
      "2025-09-25 20:37:12,122 - root - INFO - Added SinusoidalVolumeEncoder with 10 volumes and 64 embedding dimensions\n",
      "2025-09-25 20:37:12,126 - root - INFO - Initializing GatedBlock: x_channels=32, h_channels=32, dense_convs=2, groups=1\n",
      "2025-09-25 20:37:12,127 - root - INFO - Initializing DenoisingBlock: in_channels=64, inner_channels=32, out_channels=32, inner_convolutions=2, residual=False\n",
      "2025-09-25 20:37:12,128 - root - INFO - Initializing FactorizedBlock: in_channels=96, out_channels=32, groups=1\n",
      "2025-09-25 20:37:12,131 - root - INFO - Initializing FactorizedBlock: in_channels=128, out_channels=32, groups=1\n",
      "2025-09-25 20:37:12,134 - root - INFO - MultiScaleDetailNet model created - Total parameters: 245,920, Trainable parameters: 245,920\n",
      "2025-09-25 20:37:12,135 - root - INFO - Using MultiScaleDetailNet for detail preservation\n",
      "2025-09-25 20:37:12,136 - root - INFO - Model initialized - in_channel: 9, out_channel: 1\n",
      "2025-09-25 20:37:12,137 - root - INFO - Total model parameters: 245920\n",
      "2025-09-25 20:37:12,137 - root - INFO - Setting up multi-GPU training...\n",
      "2025-09-25 20:37:12,240 - root - WARNING - GPU 2 (NVIDIA GeForce RTX 2080) is imbalanced:\n",
      "2025-09-25 20:37:12,241 - root - WARNING -   Memory: 7.8GB vs 10.8GB (ratio: 0.72)\n",
      "2025-09-25 20:37:12,241 - root - WARNING -   Cores: 46 vs 68 (ratio: 0.68)\n",
      "2025-09-25 20:37:12,242 - root - WARNING - Excluding imbalanced GPUs: [2]\n",
      "2025-09-25 20:37:12,243 - root - WARNING - Using balanced GPUs: [0, 1]\n",
      "2025-09-25 20:37:12,243 - root - INFO - Using 2 GPUs: [0, 1]\n",
      "2025-09-25 20:37:12,244 - root - INFO - Available GPUs: 3\n",
      "2025-09-25 20:37:12,245 - root - INFO - Learning rate scaled: 0.001 -> 0.001414 (factor: 1.41)\n",
      "2025-09-25 20:37:12,246 - root - INFO - Effective batch size: 8 -> 16 (per GPU × 2 GPUs)\n",
      "2025-09-25 20:37:12,247 - root - INFO - Setting up optimizer and scheduler...\n",
      "2025-09-25 20:37:13,250 - root - INFO - Optimizer: Adam(lr=0.001414)\n",
      "2025-09-25 20:37:13,251 - root - INFO - Effective batch size: 16 (per-GPU: 8)\n",
      "2025-09-25 20:37:13,252 - root - INFO - Scheduler: CosineAnnealingWarmRestarts(T_0=10, T_mult=2, eta_min=1e-05)\n",
      "2025-09-25 20:37:13,253 - root - INFO - Training device: cuda\n",
      "2025-09-25 20:37:13,253 - root - INFO - Number of epochs: 50\n",
      "2025-09-25 20:37:13,254 - root - INFO - Checkpoint directory: multiscale_detail_net/checkpoints/dbrain\n",
      "2025-09-25 20:37:13,255 - root - INFO - Starting training - device: cuda, epochs: 50\n",
      "2025-09-25 20:37:13,256 - root - INFO - Model device: cpu\n",
      "2025-09-25 20:37:13,394 - root - INFO - Model moved to device: cuda\n",
      "2025-09-25 20:37:13,395 - root - INFO - Using existing checkpoint directory: multiscale_detail_net/checkpoints/dbrain/bvalue_2500/num_volumes_10/noise_sigma_0.1/learning_rate_0.001\n",
      "2025-09-25 20:37:13,395 - root - INFO - Attempting to load checkpoint from: multiscale_detail_net/checkpoints/dbrain/bvalue_2500/num_volumes_10/noise_sigma_0.1/learning_rate_0.001/latest_checkpoint.pth\n",
      "2025-09-25 20:37:13,446 - root - INFO - Detected DataParallel checkpoint, removing 'module.' prefix\n",
      "2025-09-25 20:37:13,447 - root - WARNING - Missing keys in checkpoint: 71 keys\n",
      "2025-09-25 20:37:13,448 - root - WARNING - First 10 missing keys: ['module.volume_encoder.pe', 'module.full_res_path.conv1.weight', 'module.full_res_path.conv1.bias', 'module.full_res_path.act1.weight', 'module.full_res_path.conv2.weight', 'module.full_res_path.conv2.bias', 'module.full_res_path.act2.weight', 'module.half_res_path.conv1.weight', 'module.half_res_path.conv1.bias', 'module.half_res_path.act1.weight']\n",
      "2025-09-25 20:37:13,449 - root - WARNING - Unexpected keys in checkpoint: 71 keys\n",
      "2025-09-25 20:37:13,450 - root - WARNING - First 10 unexpected keys: ['volume_encoder.pe', 'full_res_path.conv1.weight', 'full_res_path.conv1.bias', 'full_res_path.act1.weight', 'full_res_path.conv2.weight', 'full_res_path.conv2.bias', 'full_res_path.act2.weight', 'half_res_path.conv1.weight', 'half_res_path.conv1.bias', 'half_res_path.act1.weight']\n",
      "2025-09-25 20:37:13,451 - root - INFO - Checkpoint loaded successfully: multiscale_detail_net/checkpoints/dbrain/bvalue_2500/num_volumes_10/noise_sigma_0.1/learning_rate_0.001/latest_checkpoint.pth\n",
      "2025-09-25 20:37:13,452 - root - INFO - Checkpoint details - epoch: 30, loss: 0.188099, best_loss: 0.188099\n",
      "2025-09-25 20:37:13,452 - root - INFO - Scheduler state found in checkpoint\n",
      "2025-09-25 20:37:13,454 - root - INFO - Scheduler state restored from checkpoint\n",
      "2025-09-25 20:37:13,454 - root - INFO - Training starting from epoch: 30\n",
      "2025-09-25 20:37:13,455 - root - INFO - Best loss so far: 0.188099\n",
      "2025-09-25 20:37:13,456 - root - INFO - EdgeAwareLoss initialized with alpha=0.5, beta=0.1\n",
      "2025-09-25 20:37:13,457 - root - INFO - Using EdgeAwareLoss for detail preservation\n",
      "/home/paco/TechJourney/TechJourney/DWMRI/src/multiscale/fit.py:62: FutureWarning: `torch.cuda.amp.GradScaler(args...)` is deprecated. Please use `torch.amp.GradScaler('cuda', args...)` instead.\n",
      "  scaler = torch.cuda.amp.GradScaler()\n",
      "2025-09-25 20:37:13,458 - root - INFO - Mixed precision training enabled\n",
      "2025-09-25 20:37:13,458 - root - INFO - Gradient accumulation steps: 1\n",
      "2025-09-25 20:37:13,462 - root - INFO - Starting epoch 31/50\n",
      "2025-09-25 20:37:13,463 - root - INFO - Current learning rate: 0.000019\n",
      "/home/paco/TechJourney/TechJourney/DWMRI/src/multiscale/fit.py:97: FutureWarning: `torch.cuda.amp.autocast(args...)` is deprecated. Please use `torch.amp.autocast('cuda', args...)` instead.\n",
      "  with torch.cuda.amp.autocast():\n",
      "2025-09-25 20:37:47,282 - root - INFO - Epoch 31/50 completed\n",
      "2025-09-25 20:37:47,283 - root - INFO - Average Loss: 0.614956\n",
      "2025-09-25 20:37:47,284 - root - INFO - Loss stats - Min: 0.221228, Max: 1.265749, Std: 0.172372\n",
      "2025-09-25 20:37:47,285 - root - INFO - Learning rate: 0.000019 -> 0.001414\n",
      "2025-09-25 20:37:47,287 - root - INFO - Saving checkpoint to: multiscale_detail_net/checkpoints/dbrain/bvalue_2500/num_volumes_10/noise_sigma_0.1/learning_rate_0.001/latest_checkpoint.pth\n",
      "2025-09-25 20:37:47,334 - root - INFO - Checkpoint saved successfully: multiscale_detail_net/checkpoints/dbrain/bvalue_2500/num_volumes_10/noise_sigma_0.1/learning_rate_0.001/latest_checkpoint.pth\n",
      "2025-09-25 20:37:47,336 - root - INFO - Starting epoch 32/50it]\n",
      "2025-09-25 20:37:47,337 - root - INFO - Current learning rate: 0.001414\n",
      "Training DRCnet:   2%|▏         | 1/50 [01:00<49:04, 60.09s/it]\n"
     ]
    },
    {
     "ename": "KeyboardInterrupt",
     "evalue": "",
     "output_type": "error",
     "traceback": [
      "\u001b[0;31m---------------------------------------------------------------------------\u001b[0m",
      "\u001b[0;31mKeyboardInterrupt\u001b[0m                         Traceback (most recent call last)",
      "Cell \u001b[0;32mIn[3], line 1\u001b[0m\n\u001b[0;32m----> 1\u001b[0m \u001b[43mmain\u001b[49m\u001b[43m(\u001b[49m\u001b[38;5;124;43m\"\u001b[39;49m\u001b[38;5;124;43mdbrain\u001b[39;49m\u001b[38;5;124;43m\"\u001b[39;49m\u001b[43m)\u001b[49m\n\u001b[1;32m      3\u001b[0m \u001b[38;5;66;03m# metrics\u001b[39;00m\n\u001b[1;32m      4\u001b[0m \n\u001b[1;32m      5\u001b[0m \u001b[38;5;66;03m## mds2s\u001b[39;00m\n\u001b[0;32m   (...)\u001b[0m\n\u001b[1;32m     11\u001b[0m \u001b[38;5;66;03m## drcnet sinusoidal encoding with CBAM and mean input -- lr 0.001\u001b[39;00m\n\u001b[1;32m     12\u001b[0m \u001b[38;5;66;03m### {'psnr': 19.70985296358925, 'ssim': 0.3897143304347992, 'mse': 0.010690910741686821}\u001b[39;00m\n",
      "File \u001b[0;32m~/TechJourney/TechJourney/DWMRI/src/multiscale/run.py:219\u001b[0m, in \u001b[0;36mmain\u001b[0;34m(dataset, train, reconstruct, generate_images, use_edge_aware_loss, use_mixed_precision, accumulation_steps)\u001b[0m\n\u001b[1;32m    217\u001b[0m \u001b[38;5;66;03m# Training\u001b[39;00m\n\u001b[1;32m    218\u001b[0m \u001b[38;5;28;01mif\u001b[39;00m train:\n\u001b[0;32m--> 219\u001b[0m     \u001b[43mfit_model\u001b[49m\u001b[43m(\u001b[49m\n\u001b[1;32m    220\u001b[0m \u001b[43m        \u001b[49m\u001b[43mmodel\u001b[49m\u001b[38;5;241;43m=\u001b[39;49m\u001b[43mmodel\u001b[49m\u001b[43m,\u001b[49m\n\u001b[1;32m    221\u001b[0m \u001b[43m        \u001b[49m\u001b[43moptimizer\u001b[49m\u001b[38;5;241;43m=\u001b[39;49m\u001b[43moptimizer\u001b[49m\u001b[43m,\u001b[49m\n\u001b[1;32m    222\u001b[0m \u001b[43m        \u001b[49m\u001b[43mscheduler\u001b[49m\u001b[38;5;241;43m=\u001b[39;49m\u001b[43mscheduler\u001b[49m\u001b[43m,\u001b[49m\n\u001b[1;32m    223\u001b[0m \u001b[43m        \u001b[49m\u001b[43mtrain_loader\u001b[49m\u001b[38;5;241;43m=\u001b[39;49m\u001b[43mtrain_loader\u001b[49m\u001b[43m,\u001b[49m\n\u001b[1;32m    224\u001b[0m \u001b[43m        \u001b[49m\u001b[43mnum_epochs\u001b[49m\u001b[38;5;241;43m=\u001b[39;49m\u001b[43msettings\u001b[49m\u001b[38;5;241;43m.\u001b[39;49m\u001b[43mtrain\u001b[49m\u001b[38;5;241;43m.\u001b[39;49m\u001b[43mnum_epochs\u001b[49m\u001b[43m,\u001b[49m\n\u001b[1;32m    225\u001b[0m \u001b[43m        \u001b[49m\u001b[43mdevice\u001b[49m\u001b[38;5;241;43m=\u001b[39;49m\u001b[43msettings\u001b[49m\u001b[38;5;241;43m.\u001b[39;49m\u001b[43mtrain\u001b[49m\u001b[38;5;241;43m.\u001b[39;49m\u001b[43mdevice\u001b[49m\u001b[43m,\u001b[49m\n\u001b[1;32m    226\u001b[0m \u001b[43m        \u001b[49m\u001b[43mcheckpoint_dir\u001b[49m\u001b[38;5;241;43m=\u001b[39;49m\u001b[43mcheckpoint_dir\u001b[49m\u001b[43m,\u001b[49m\n\u001b[1;32m    227\u001b[0m \u001b[43m        \u001b[49m\u001b[43muse_edge_aware_loss\u001b[49m\u001b[38;5;241;43m=\u001b[39;49m\u001b[43muse_edge_aware_loss\u001b[49m\u001b[43m,\u001b[49m\n\u001b[1;32m    228\u001b[0m \u001b[43m        \u001b[49m\u001b[43muse_mixed_precision\u001b[49m\u001b[38;5;241;43m=\u001b[39;49m\u001b[43muse_mixed_precision\u001b[49m\u001b[43m,\u001b[49m\n\u001b[1;32m    229\u001b[0m \u001b[43m        \u001b[49m\u001b[43maccumulation_steps\u001b[49m\u001b[38;5;241;43m=\u001b[39;49m\u001b[43maccumulation_steps\u001b[49m\u001b[43m,\u001b[49m\n\u001b[1;32m    230\u001b[0m \u001b[43m    \u001b[49m\u001b[43m)\u001b[49m\n\u001b[1;32m    232\u001b[0m     logging\u001b[38;5;241m.\u001b[39minfo(\u001b[38;5;124m\"\u001b[39m\u001b[38;5;124mTraining setup completed successfully\u001b[39m\u001b[38;5;124m\"\u001b[39m)\n\u001b[1;32m    233\u001b[0m     logging\u001b[38;5;241m.\u001b[39minfo(\u001b[38;5;124mf\u001b[39m\u001b[38;5;124m\"\u001b[39m\u001b[38;5;124mTraining completed. Log file: \u001b[39m\u001b[38;5;132;01m{\u001b[39;00mlog_file\u001b[38;5;132;01m}\u001b[39;00m\u001b[38;5;124m\"\u001b[39m)\n",
      "File \u001b[0;32m~/TechJourney/TechJourney/DWMRI/src/multiscale/fit.py:98\u001b[0m, in \u001b[0;36mfit_model\u001b[0;34m(model, optimizer, scheduler, train_loader, num_epochs, device, checkpoint_dir, use_edge_aware_loss, use_mixed_precision, accumulation_steps)\u001b[0m\n\u001b[1;32m     96\u001b[0m \u001b[38;5;28;01mif\u001b[39;00m scaler:\n\u001b[1;32m     97\u001b[0m     \u001b[38;5;28;01mwith\u001b[39;00m torch\u001b[38;5;241m.\u001b[39mcuda\u001b[38;5;241m.\u001b[39mamp\u001b[38;5;241m.\u001b[39mautocast():\n\u001b[0;32m---> 98\u001b[0m         x_recon \u001b[38;5;241m=\u001b[39m \u001b[43mmodel\u001b[49m\u001b[43m(\u001b[49m\u001b[43mx\u001b[49m\u001b[43m,\u001b[49m\u001b[43m \u001b[49m\u001b[43mvolume_indices\u001b[49m\u001b[43m)\u001b[49m\n\u001b[1;32m     99\u001b[0m         loss \u001b[38;5;241m=\u001b[39m loss_fn(x_recon, y) \u001b[38;5;241m/\u001b[39m accumulation_steps\n\u001b[1;32m    101\u001b[0m     \u001b[38;5;66;03m# Backward pass with gradient scaling\u001b[39;00m\n",
      "File \u001b[0;32m~/vqvae/env-torch/lib/python3.10/site-packages/torch/nn/modules/module.py:1739\u001b[0m, in \u001b[0;36mModule._wrapped_call_impl\u001b[0;34m(self, *args, **kwargs)\u001b[0m\n\u001b[1;32m   1737\u001b[0m     \u001b[38;5;28;01mreturn\u001b[39;00m \u001b[38;5;28mself\u001b[39m\u001b[38;5;241m.\u001b[39m_compiled_call_impl(\u001b[38;5;241m*\u001b[39margs, \u001b[38;5;241m*\u001b[39m\u001b[38;5;241m*\u001b[39mkwargs)  \u001b[38;5;66;03m# type: ignore[misc]\u001b[39;00m\n\u001b[1;32m   1738\u001b[0m \u001b[38;5;28;01melse\u001b[39;00m:\n\u001b[0;32m-> 1739\u001b[0m     \u001b[38;5;28;01mreturn\u001b[39;00m \u001b[38;5;28;43mself\u001b[39;49m\u001b[38;5;241;43m.\u001b[39;49m\u001b[43m_call_impl\u001b[49m\u001b[43m(\u001b[49m\u001b[38;5;241;43m*\u001b[39;49m\u001b[43margs\u001b[49m\u001b[43m,\u001b[49m\u001b[43m \u001b[49m\u001b[38;5;241;43m*\u001b[39;49m\u001b[38;5;241;43m*\u001b[39;49m\u001b[43mkwargs\u001b[49m\u001b[43m)\u001b[49m\n",
      "File \u001b[0;32m~/vqvae/env-torch/lib/python3.10/site-packages/torch/nn/modules/module.py:1750\u001b[0m, in \u001b[0;36mModule._call_impl\u001b[0;34m(self, *args, **kwargs)\u001b[0m\n\u001b[1;32m   1745\u001b[0m \u001b[38;5;66;03m# If we don't have any hooks, we want to skip the rest of the logic in\u001b[39;00m\n\u001b[1;32m   1746\u001b[0m \u001b[38;5;66;03m# this function, and just call forward.\u001b[39;00m\n\u001b[1;32m   1747\u001b[0m \u001b[38;5;28;01mif\u001b[39;00m \u001b[38;5;129;01mnot\u001b[39;00m (\u001b[38;5;28mself\u001b[39m\u001b[38;5;241m.\u001b[39m_backward_hooks \u001b[38;5;129;01mor\u001b[39;00m \u001b[38;5;28mself\u001b[39m\u001b[38;5;241m.\u001b[39m_backward_pre_hooks \u001b[38;5;129;01mor\u001b[39;00m \u001b[38;5;28mself\u001b[39m\u001b[38;5;241m.\u001b[39m_forward_hooks \u001b[38;5;129;01mor\u001b[39;00m \u001b[38;5;28mself\u001b[39m\u001b[38;5;241m.\u001b[39m_forward_pre_hooks\n\u001b[1;32m   1748\u001b[0m         \u001b[38;5;129;01mor\u001b[39;00m _global_backward_pre_hooks \u001b[38;5;129;01mor\u001b[39;00m _global_backward_hooks\n\u001b[1;32m   1749\u001b[0m         \u001b[38;5;129;01mor\u001b[39;00m _global_forward_hooks \u001b[38;5;129;01mor\u001b[39;00m _global_forward_pre_hooks):\n\u001b[0;32m-> 1750\u001b[0m     \u001b[38;5;28;01mreturn\u001b[39;00m \u001b[43mforward_call\u001b[49m\u001b[43m(\u001b[49m\u001b[38;5;241;43m*\u001b[39;49m\u001b[43margs\u001b[49m\u001b[43m,\u001b[49m\u001b[43m \u001b[49m\u001b[38;5;241;43m*\u001b[39;49m\u001b[38;5;241;43m*\u001b[39;49m\u001b[43mkwargs\u001b[49m\u001b[43m)\u001b[49m\n\u001b[1;32m   1752\u001b[0m result \u001b[38;5;241m=\u001b[39m \u001b[38;5;28;01mNone\u001b[39;00m\n\u001b[1;32m   1753\u001b[0m called_always_called_hooks \u001b[38;5;241m=\u001b[39m \u001b[38;5;28mset\u001b[39m()\n",
      "File \u001b[0;32m~/vqvae/env-torch/lib/python3.10/site-packages/torch/nn/parallel/data_parallel.py:193\u001b[0m, in \u001b[0;36mDataParallel.forward\u001b[0;34m(self, *inputs, **kwargs)\u001b[0m\n\u001b[1;32m    191\u001b[0m     \u001b[38;5;28;01mreturn\u001b[39;00m \u001b[38;5;28mself\u001b[39m\u001b[38;5;241m.\u001b[39mmodule(\u001b[38;5;241m*\u001b[39minputs[\u001b[38;5;241m0\u001b[39m], \u001b[38;5;241m*\u001b[39m\u001b[38;5;241m*\u001b[39mmodule_kwargs[\u001b[38;5;241m0\u001b[39m])\n\u001b[1;32m    192\u001b[0m replicas \u001b[38;5;241m=\u001b[39m \u001b[38;5;28mself\u001b[39m\u001b[38;5;241m.\u001b[39mreplicate(\u001b[38;5;28mself\u001b[39m\u001b[38;5;241m.\u001b[39mmodule, \u001b[38;5;28mself\u001b[39m\u001b[38;5;241m.\u001b[39mdevice_ids[: \u001b[38;5;28mlen\u001b[39m(inputs)])\n\u001b[0;32m--> 193\u001b[0m outputs \u001b[38;5;241m=\u001b[39m \u001b[38;5;28;43mself\u001b[39;49m\u001b[38;5;241;43m.\u001b[39;49m\u001b[43mparallel_apply\u001b[49m\u001b[43m(\u001b[49m\u001b[43mreplicas\u001b[49m\u001b[43m,\u001b[49m\u001b[43m \u001b[49m\u001b[43minputs\u001b[49m\u001b[43m,\u001b[49m\u001b[43m \u001b[49m\u001b[43mmodule_kwargs\u001b[49m\u001b[43m)\u001b[49m\n\u001b[1;32m    194\u001b[0m \u001b[38;5;28;01mreturn\u001b[39;00m \u001b[38;5;28mself\u001b[39m\u001b[38;5;241m.\u001b[39mgather(outputs, \u001b[38;5;28mself\u001b[39m\u001b[38;5;241m.\u001b[39moutput_device)\n",
      "File \u001b[0;32m~/vqvae/env-torch/lib/python3.10/site-packages/torch/nn/parallel/data_parallel.py:212\u001b[0m, in \u001b[0;36mDataParallel.parallel_apply\u001b[0;34m(self, replicas, inputs, kwargs)\u001b[0m\n\u001b[1;32m    209\u001b[0m \u001b[38;5;28;01mdef\u001b[39;00m \u001b[38;5;21mparallel_apply\u001b[39m(\n\u001b[1;32m    210\u001b[0m     \u001b[38;5;28mself\u001b[39m, replicas: Sequence[T], inputs: Sequence[Any], kwargs: Any\n\u001b[1;32m    211\u001b[0m ) \u001b[38;5;241m-\u001b[39m\u001b[38;5;241m>\u001b[39m List[Any]:\n\u001b[0;32m--> 212\u001b[0m     \u001b[38;5;28;01mreturn\u001b[39;00m \u001b[43mparallel_apply\u001b[49m\u001b[43m(\u001b[49m\n\u001b[1;32m    213\u001b[0m \u001b[43m        \u001b[49m\u001b[43mreplicas\u001b[49m\u001b[43m,\u001b[49m\u001b[43m \u001b[49m\u001b[43minputs\u001b[49m\u001b[43m,\u001b[49m\u001b[43m \u001b[49m\u001b[43mkwargs\u001b[49m\u001b[43m,\u001b[49m\u001b[43m \u001b[49m\u001b[38;5;28;43mself\u001b[39;49m\u001b[38;5;241;43m.\u001b[39;49m\u001b[43mdevice_ids\u001b[49m\u001b[43m[\u001b[49m\u001b[43m:\u001b[49m\u001b[43m \u001b[49m\u001b[38;5;28;43mlen\u001b[39;49m\u001b[43m(\u001b[49m\u001b[43mreplicas\u001b[49m\u001b[43m)\u001b[49m\u001b[43m]\u001b[49m\n\u001b[1;32m    214\u001b[0m \u001b[43m    \u001b[49m\u001b[43m)\u001b[49m\n",
      "File \u001b[0;32m~/vqvae/env-torch/lib/python3.10/site-packages/torch/nn/parallel/parallel_apply.py:118\u001b[0m, in \u001b[0;36mparallel_apply\u001b[0;34m(modules, inputs, kwargs_tup, devices)\u001b[0m\n\u001b[1;32m    116\u001b[0m         thread\u001b[38;5;241m.\u001b[39mstart()\n\u001b[1;32m    117\u001b[0m     \u001b[38;5;28;01mfor\u001b[39;00m thread \u001b[38;5;129;01min\u001b[39;00m threads:\n\u001b[0;32m--> 118\u001b[0m         \u001b[43mthread\u001b[49m\u001b[38;5;241;43m.\u001b[39;49m\u001b[43mjoin\u001b[49m\u001b[43m(\u001b[49m\u001b[43m)\u001b[49m\n\u001b[1;32m    119\u001b[0m \u001b[38;5;28;01melse\u001b[39;00m:\n\u001b[1;32m    120\u001b[0m     _worker(\u001b[38;5;241m0\u001b[39m, modules[\u001b[38;5;241m0\u001b[39m], inputs[\u001b[38;5;241m0\u001b[39m], kwargs_tup[\u001b[38;5;241m0\u001b[39m], devices[\u001b[38;5;241m0\u001b[39m], streams[\u001b[38;5;241m0\u001b[39m])\n",
      "File \u001b[0;32m/opt/miniconda3/envs/jupyterhub/lib/python3.10/threading.py:1096\u001b[0m, in \u001b[0;36mThread.join\u001b[0;34m(self, timeout)\u001b[0m\n\u001b[1;32m   1093\u001b[0m     \u001b[38;5;28;01mraise\u001b[39;00m \u001b[38;5;167;01mRuntimeError\u001b[39;00m(\u001b[38;5;124m\"\u001b[39m\u001b[38;5;124mcannot join current thread\u001b[39m\u001b[38;5;124m\"\u001b[39m)\n\u001b[1;32m   1095\u001b[0m \u001b[38;5;28;01mif\u001b[39;00m timeout \u001b[38;5;129;01mis\u001b[39;00m \u001b[38;5;28;01mNone\u001b[39;00m:\n\u001b[0;32m-> 1096\u001b[0m     \u001b[38;5;28;43mself\u001b[39;49m\u001b[38;5;241;43m.\u001b[39;49m\u001b[43m_wait_for_tstate_lock\u001b[49m\u001b[43m(\u001b[49m\u001b[43m)\u001b[49m\n\u001b[1;32m   1097\u001b[0m \u001b[38;5;28;01melse\u001b[39;00m:\n\u001b[1;32m   1098\u001b[0m     \u001b[38;5;66;03m# the behavior of a negative timeout isn't documented, but\u001b[39;00m\n\u001b[1;32m   1099\u001b[0m     \u001b[38;5;66;03m# historically .join(timeout=x) for x<0 has acted as if timeout=0\u001b[39;00m\n\u001b[1;32m   1100\u001b[0m     \u001b[38;5;28mself\u001b[39m\u001b[38;5;241m.\u001b[39m_wait_for_tstate_lock(timeout\u001b[38;5;241m=\u001b[39m\u001b[38;5;28mmax\u001b[39m(timeout, \u001b[38;5;241m0\u001b[39m))\n",
      "File \u001b[0;32m/opt/miniconda3/envs/jupyterhub/lib/python3.10/threading.py:1116\u001b[0m, in \u001b[0;36mThread._wait_for_tstate_lock\u001b[0;34m(self, block, timeout)\u001b[0m\n\u001b[1;32m   1113\u001b[0m     \u001b[38;5;28;01mreturn\u001b[39;00m\n\u001b[1;32m   1115\u001b[0m \u001b[38;5;28;01mtry\u001b[39;00m:\n\u001b[0;32m-> 1116\u001b[0m     \u001b[38;5;28;01mif\u001b[39;00m \u001b[43mlock\u001b[49m\u001b[38;5;241;43m.\u001b[39;49m\u001b[43macquire\u001b[49m\u001b[43m(\u001b[49m\u001b[43mblock\u001b[49m\u001b[43m,\u001b[49m\u001b[43m \u001b[49m\u001b[43mtimeout\u001b[49m\u001b[43m)\u001b[49m:\n\u001b[1;32m   1117\u001b[0m         lock\u001b[38;5;241m.\u001b[39mrelease()\n\u001b[1;32m   1118\u001b[0m         \u001b[38;5;28mself\u001b[39m\u001b[38;5;241m.\u001b[39m_stop()\n",
      "\u001b[0;31mKeyboardInterrupt\u001b[0m: "
     ]
    }
   ],
   "source": [
    "main(\"dbrain\")\n",
    "\n",
    "# metrics\n",
    "\n",
    "## mds2s\n",
    "### 0.1 {'psnr': 20.75483775311783, 'ssim': 0.3659183382987976, 'mse': 0.008404584049680605}\n",
    "\n",
    "## drcnet\n",
    "### 0.1 {'psnr': 21.002585178163354, 'ssim': 0.3720719814300537, 'mse': 0.00793855544179678}\n",
    "\n",
    "## drcnet sinusoidal encoding with CBAM and mean input -- lr 0.001\n",
    "### {'psnr': 19.70985296358925, 'ssim': 0.3897143304347992, 'mse': 0.010690910741686821}\n",
    "\n"
   ]
  },
  {
   "cell_type": "code",
   "execution_count": null,
   "id": "dc6edbad-c311-450d-a1c5-cafb96646c81",
   "metadata": {},
   "outputs": [],
   "source": []
  }
 ],
 "metadata": {
  "kernelspec": {
   "display_name": "env-torch",
   "language": "python",
   "name": "env-torch"
  },
  "language_info": {
   "codemirror_mode": {
    "name": "ipython",
    "version": 3
   },
   "file_extension": ".py",
   "mimetype": "text/x-python",
   "name": "python",
   "nbconvert_exporter": "python",
   "pygments_lexer": "ipython3",
   "version": "3.10.16"
  },
  "widgets": {
   "application/vnd.jupyter.widget-state+json": {
    "state": {},
    "version_major": 2,
    "version_minor": 0
   }
  }
 },
 "nbformat": 4,
 "nbformat_minor": 5
}
