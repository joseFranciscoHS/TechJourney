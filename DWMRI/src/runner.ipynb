{
 "cells": [
  {
   "cell_type": "code",
   "execution_count": 1,
   "id": "15956e2b-7a01-442f-9cbc-4054100d102a",
   "metadata": {},
   "outputs": [
    {
     "data": {
      "text/plain": [
       "'2.6.0+cu124'"
      ]
     },
     "execution_count": 1,
     "metadata": {},
     "output_type": "execute_result"
    }
   ],
   "source": [
    "import torch\n",
    "torch.__version__"
   ]
  },
  {
   "cell_type": "code",
   "execution_count": 2,
   "id": "263915cf-945f-4487-99be-ba8d5799401f",
   "metadata": {},
   "outputs": [
    {
     "name": "stderr",
     "output_type": "stream",
     "text": [
      "/home/paco/vqvae/env-torch/lib/python3.10/site-packages/tqdm/auto.py:21: TqdmWarning: IProgress not found. Please update jupyter and ipywidgets. See https://ipywidgets.readthedocs.io/en/stable/user_install.html\n",
      "  from .autonotebook import tqdm as notebook_tqdm\n"
     ]
    }
   ],
   "source": [
    "from drcnet_sinusoidal_volume_encoder.run import main"
   ]
  },
  {
   "cell_type": "code",
   "execution_count": null,
   "id": "0d639354-0ee6-48f9-ba81-51e9240cc764",
   "metadata": {},
   "outputs": [
    {
     "name": "stderr",
     "output_type": "stream",
     "text": [
      "2025-09-21 22:30:47,005 - root - INFO - Logging configured - level: INFO, file: logs/training_20250921_223047.log\n",
      "2025-09-21 22:30:47,006 - root - INFO - Starting training with dataset: dbrain\n",
      "2025-09-21 22:30:47,007 - root - INFO - Loading config from: /home/paco/TechJourney/TechJourney/DWMRI/src/drcnet_sinusoidal_volume_encoder/config.yaml\n",
      "2025-09-21 22:30:47,007 - root - INFO - Loading configuration from: /home/paco/TechJourney/TechJourney/DWMRI/src/drcnet_sinusoidal_volume_encoder/config.yaml\n",
      "2025-09-21 22:30:47,015 - root - INFO - Configuration file loaded successfully\n",
      "2025-09-21 22:30:47,016 - root - INFO - Configuration converted to Munch object\n",
      "2025-09-21 22:30:47,017 - root - INFO - Configuration loaded successfully\n",
      "2025-09-21 22:30:47,017 - root - INFO - Using DBrain dataset configuration\n",
      "2025-09-21 22:30:47,018 - root - INFO - DBrainDataLoader initialized - nii_path: /home/paco/d_brain/D_BRAIN_b2500_6_60_14_HCP_nless.nii, bvecs_path: /home/paco/d_brain/D_BRAIN_b2500_6_60_HCP_b_matrix.txt, bvalue: 2500, noise_sigma: 0.1\n",
      "2025-09-21 22:30:47,018 - root - INFO - DBrainDataLoader initialized with noise_sigma=0.1\n",
      "2025-09-21 22:30:47,019 - root - INFO - Loading data...\n",
      "2025-09-21 22:30:47,019 - root - INFO - Loading data from /home/paco/d_brain/D_BRAIN_b2500_6_60_14_HCP_nless.nii\n",
      "pixdim[0] (qfac) should be 1 (default) or -1; setting qfac to 1\n",
      "2025-09-21 22:30:47,022 - nibabel.global - INFO - pixdim[0] (qfac) should be 1 (default) or -1; setting qfac to 1\n",
      "2025-09-21 22:30:47,023 - root - INFO - Raw data loaded - shape: (128, 128, 97, 66), dtype: float64\n",
      "2025-09-21 22:30:47,283 - root - INFO - Raw data stats - min: 0.0000, max: 7462.0000, mean: 159.3769\n",
      "2025-09-21 22:30:47,284 - root - INFO - Normalizing spatial dimensions...\n",
      "2025-09-21 22:30:47,285 - root - INFO - Normalizing spatial dimensions for data of shape (128, 128, 97, 66)\n",
      "2025-09-21 22:30:48,070 - root - INFO - Spatial normalization completed - output shape: (128, 128, 97, 66)\n",
      "2025-09-21 22:30:48,167 - root - INFO - Normalized data stats - min: 0.0000, max: 1.0000, mean: 0.1140\n",
      "2025-09-21 22:30:48,168 - root - INFO - Adding Rician noise with sigma=0.1 to normalized data...\n",
      "2025-09-21 22:30:48,169 - root - INFO - Adding Rician noise to normalized data with sigma=0.1 to data of shape (128, 128, 97, 66)\n"
     ]
    }
   ],
   "source": [
    "main(\"dbrain\")\n",
    "\n",
    "# metrics\n",
    "\n",
    "## mds2s\n",
    "### 0.1 {'psnr': 20.75483775311783, 'ssim': 0.3659183382987976, 'mse': 0.008404584049680605}\n",
    "\n",
    "## drcnet\n",
    "### 0.1 {'psnr': 21.002585178163354, 'ssim': 0.3720719814300537, 'mse': 0.00793855544179678}"
   ]
  },
  {
   "cell_type": "code",
   "execution_count": null,
   "id": "dc6edbad-c311-450d-a1c5-cafb96646c81",
   "metadata": {},
   "outputs": [],
   "source": []
  }
 ],
 "metadata": {
  "kernelspec": {
   "display_name": "env-torch",
   "language": "python",
   "name": "env-torch"
  },
  "language_info": {
   "codemirror_mode": {
    "name": "ipython",
    "version": 3
   },
   "file_extension": ".py",
   "mimetype": "text/x-python",
   "name": "python",
   "nbconvert_exporter": "python",
   "pygments_lexer": "ipython3",
   "version": "3.10.16"
  },
  "widgets": {
   "application/vnd.jupyter.widget-state+json": {
    "state": {},
    "version_major": 2,
    "version_minor": 0
   }
  }
 },
 "nbformat": 4,
 "nbformat_minor": 5
}
