{
 "cells": [
  {
   "cell_type": "code",
   "execution_count": 1,
   "id": "15956e2b-7a01-442f-9cbc-4054100d102a",
   "metadata": {},
   "outputs": [
    {
     "data": {
      "text/plain": [
       "'2.6.0+cu124'"
      ]
     },
     "execution_count": 1,
     "metadata": {},
     "output_type": "execute_result"
    }
   ],
   "source": [
    "import torch\n",
    "torch.__version__"
   ]
  },
  {
   "cell_type": "code",
   "execution_count": 2,
   "id": "263915cf-945f-4487-99be-ba8d5799401f",
   "metadata": {},
   "outputs": [
    {
     "name": "stderr",
     "output_type": "stream",
     "text": [
      "/home/paco/vqvae/env-torch/lib/python3.10/site-packages/tqdm/auto.py:21: TqdmWarning: IProgress not found. Please update jupyter and ipywidgets. See https://ipywidgets.readthedocs.io/en/stable/user_install.html\n",
      "  from .autonotebook import tqdm as notebook_tqdm\n"
     ]
    }
   ],
   "source": [
    "from drcnet.run import main"
   ]
  },
  {
   "cell_type": "code",
   "execution_count": null,
   "id": "0d639354-0ee6-48f9-ba81-51e9240cc764",
   "metadata": {},
   "outputs": [
    {
     "name": "stderr",
     "output_type": "stream",
     "text": [
      "2025-09-21 13:15:19,497 - root - INFO - Logging configured - level: INFO, file: logs/training_20250921_131519.log\n",
      "2025-09-21 13:15:19,498 - root - INFO - Starting training with dataset: dbrain\n",
      "2025-09-21 13:15:19,498 - root - INFO - Loading config from: /home/paco/TechJourney/TechJourney/DWMRI/src/drcnet/config.yaml\n",
      "2025-09-21 13:15:19,499 - root - INFO - Loading configuration from: /home/paco/TechJourney/TechJourney/DWMRI/src/drcnet/config.yaml\n",
      "2025-09-21 13:15:19,506 - root - INFO - Configuration file loaded successfully\n",
      "2025-09-21 13:15:19,507 - root - INFO - Configuration converted to Munch object\n",
      "2025-09-21 13:15:19,508 - root - INFO - Configuration loaded successfully\n",
      "2025-09-21 13:15:19,508 - root - INFO - Using DBrain dataset configuration\n",
      "2025-09-21 13:15:19,509 - root - INFO - DBrainDataLoader initialized - nii_path: /home/paco/d_brain/D_BRAIN_b2500_6_60_14_HCP_nless.nii, bvecs_path: /home/paco/d_brain/D_BRAIN_b2500_6_60_HCP_b_matrix.txt, bvalue: 2500, noise_sigma: 0.1\n",
      "2025-09-21 13:15:19,510 - root - INFO - DBrainDataLoader initialized with noise_sigma=0.1\n",
      "2025-09-21 13:15:19,510 - root - INFO - Loading data...\n",
      "2025-09-21 13:15:19,511 - root - INFO - Loading data from /home/paco/d_brain/D_BRAIN_b2500_6_60_14_HCP_nless.nii\n",
      "pixdim[0] (qfac) should be 1 (default) or -1; setting qfac to 1\n",
      "2025-09-21 13:15:19,514 - nibabel.global - INFO - pixdim[0] (qfac) should be 1 (default) or -1; setting qfac to 1\n",
      "2025-09-21 13:15:19,515 - root - INFO - Raw data loaded - shape: (128, 128, 97, 66), dtype: float64\n",
      "2025-09-21 13:15:19,775 - root - INFO - Raw data stats - min: 0.0000, max: 7462.0000, mean: 159.3769\n",
      "2025-09-21 13:15:19,776 - root - INFO - Normalizing spatial dimensions...\n",
      "2025-09-21 13:15:19,776 - root - INFO - Normalizing spatial dimensions for data of shape (128, 128, 97, 66)\n",
      "2025-09-21 13:15:20,569 - root - INFO - Spatial normalization completed - output shape: (128, 128, 97, 66)\n",
      "2025-09-21 13:15:20,668 - root - INFO - Normalized data stats - min: 0.0000, max: 1.0000, mean: 0.1140\n",
      "2025-09-21 13:15:20,668 - root - INFO - Adding Rician noise with sigma=0.1 to normalized data...\n",
      "2025-09-21 13:15:20,669 - root - INFO - Adding Rician noise to normalized data with sigma=0.1 to data of shape (128, 128, 97, 66)\n",
      "2025-09-21 13:15:31,896 - root - INFO - Rician noise added to normalized data - noisy data shape: (128, 128, 97, 66)\n",
      "2025-09-21 13:15:32,004 - root - INFO - Final noisy data stats - min: 0.0000, max: 1.0000, mean: 0.2051\n",
      "2025-09-21 13:15:32,005 - root - INFO - Data shape: (128, 128, 97, 66)\n",
      "2025-09-21 13:15:32,006 - root - INFO - Noisy data shape: (128, 128, 97, 66)\n",
      "2025-09-21 13:15:32,056 - root - INFO - Taking volumes from 6 to 16\n",
      "2025-09-21 13:15:32,057 - root - INFO - Noisy data shape: (128, 128, 96, 10)\n",
      "2025-09-21 13:15:32,073 - root - INFO - Data type: float32, Min: 0.0000, Max: 1.0000, Mean: 0.2069\n",
      "2025-09-21 13:15:32,074 - root - INFO - Initializing DataSet: data.shape=(128, 128, 96, 10), patch_size=(10, 16, 16, 16), step=8\n",
      "2025-09-21 13:15:32,074 - root - INFO - Data transposed to: (10, 128, 128, 96)\n",
      "2025-09-21 13:15:32,075 - root - INFO - Creating sliding windows (memory-efficient): patch_size=(10, 16, 16, 16), step=8\n",
      "2025-09-21 13:15:32,075 - root - INFO - Will generate 2,475 spatial patches with dimensions [15, 15, 11]\n",
      "2025-09-21 13:15:32,076 - root - INFO - Each patch will contain all 10 volumes\n",
      "2025-09-21 13:15:33,863 - root - INFO - Sliding windows generated: (2475, 10, 16, 16, 16)\n",
      "2025-09-21 13:15:33,908 - root - INFO - Created 2475 windows of shape torch.Size([10, 16, 16, 16]).\n",
      "2025-09-21 13:15:33,909 - root - INFO - Total training samples: 24,750 (windows: 2,475 × volumes: 10)\n",
      "2025-09-21 13:15:33,910 - root - INFO - DataLoader created with batch_size=8, num_batches=3094\n",
      "2025-09-21 13:15:33,910 - root - INFO - Initializing DenoiserNet model...\n",
      "2025-09-21 13:15:33,911 - root - INFO - Initializing DenoiserNet: input_channels=9, output_channels=1, groups=4, dense_convs=3, residual=True, base_filters=32\n",
      "2025-09-21 13:15:33,932 - root - INFO - Initializing GatedBlock: x_channels=32, h_channels=32, dense_convs=3, groups=4\n",
      "2025-09-21 13:15:33,933 - root - INFO - Initializing DenoisingBlock: in_channels=64, inner_channels=32, out_channels=32, inner_convolutions=3, residual=False\n",
      "2025-09-21 13:15:33,934 - root - INFO - Initializing FactorizedBlock: in_channels=96, out_channels=32, groups=4\n",
      "2025-09-21 13:15:33,936 - root - INFO - Initializing FactorizedBlock: in_channels=128, out_channels=32, groups=4\n",
      "2025-09-21 13:15:33,938 - root - INFO - Initializing FactorizedBlock: in_channels=160, out_channels=32, groups=4\n",
      "2025-09-21 13:15:33,941 - root - INFO - DenoiserNet model created - Total parameters: 71,978, Trainable parameters: 71,978\n",
      "2025-09-21 13:15:33,941 - root - INFO - Model initialized - in_channel: 9, out_channel: 1\n",
      "2025-09-21 13:15:33,942 - root - INFO - Total model parameters: 71978\n",
      "2025-09-21 13:15:33,943 - root - INFO - Setting up multi-GPU training...\n",
      "2025-09-21 13:15:33,943 - root - INFO - Single GPU training mode\n",
      "2025-09-21 13:15:33,944 - root - INFO - Setting up optimizer and scheduler...\n",
      "2025-09-21 13:15:34,901 - root - INFO - Optimizer: Adam(lr=0.000100)\n",
      "2025-09-21 13:15:34,902 - root - INFO - Effective batch size: 8 (per-GPU: 8)\n",
      "2025-09-21 13:15:34,903 - root - INFO - Training device: cuda\n",
      "2025-09-21 13:15:34,903 - root - INFO - Number of epochs: 30\n",
      "2025-09-21 13:15:34,904 - root - INFO - Checkpoint directory: drcnet/checkpoints/dbrain\n",
      "2025-09-21 13:15:34,905 - root - INFO - Starting training - device: cuda, epochs: 30\n",
      "2025-09-21 13:15:34,905 - root - INFO - Model device: cpu\n",
      "2025-09-21 13:15:35,114 - root - INFO - Model moved to device: cuda\n",
      "2025-09-21 13:15:35,115 - root - INFO - Using existing checkpoint directory: drcnet/checkpoints/dbrain/bvalue_2500/num_volumes_10/noise_sigma_0.1/learning_rate_0.0001\n",
      "2025-09-21 13:15:35,115 - root - INFO - Attempting to load checkpoint from: drcnet/checkpoints/dbrain/bvalue_2500/num_volumes_10/noise_sigma_0.1/learning_rate_0.0001/latest_checkpoint.pth\n",
      "2025-09-21 13:15:35,165 - root - INFO - Checkpoint loaded successfully: drcnet/checkpoints/dbrain/bvalue_2500/num_volumes_10/noise_sigma_0.1/learning_rate_0.0001/latest_checkpoint.pth\n",
      "2025-09-21 13:15:35,166 - root - INFO - Checkpoint details - epoch: 20, loss: 0.066641, best_loss: 0.066641\n",
      "2025-09-21 13:15:35,166 - root - INFO - No scheduler state in checkpoint\n",
      "2025-09-21 13:15:35,168 - root - INFO - Training starting from epoch: 20\n",
      "2025-09-21 13:15:35,168 - root - INFO - Best loss so far: 0.066641\n",
      "2025-09-21 13:15:35,172 - root - INFO - Starting epoch 21/30\n",
      "2025-09-21 13:15:35,172 - root - INFO - Current learning rate: 0.000100\n"
     ]
    }
   ],
   "source": [
    "main(\"dbrain\")\n",
    "\n",
    "# metrics\n",
    "\n",
    "## mds2s\n",
    "### 0.1 {'psnr': 20.75483775311783, 'ssim': 0.3659183382987976, 'mse': 0.008404584049680605}\n",
    "\n",
    "## drcnet\n",
    "### 0.1 {'psnr': 21.002585178163354, 'ssim': 0.3720719814300537, 'mse': 0.00793855544179678}"
   ]
  },
  {
   "cell_type": "code",
   "execution_count": null,
   "id": "dc6edbad-c311-450d-a1c5-cafb96646c81",
   "metadata": {},
   "outputs": [],
   "source": []
  }
 ],
 "metadata": {
  "kernelspec": {
   "display_name": "env-torch",
   "language": "python",
   "name": "env-torch"
  },
  "language_info": {
   "codemirror_mode": {
    "name": "ipython",
    "version": 3
   },
   "file_extension": ".py",
   "mimetype": "text/x-python",
   "name": "python",
   "nbconvert_exporter": "python",
   "pygments_lexer": "ipython3",
   "version": "3.10.16"
  },
  "widgets": {
   "application/vnd.jupyter.widget-state+json": {
    "state": {},
    "version_major": 2,
    "version_minor": 0
   }
  }
 },
 "nbformat": 4,
 "nbformat_minor": 5
}
