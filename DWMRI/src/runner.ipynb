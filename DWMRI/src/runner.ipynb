{
 "cells": [
  {
   "cell_type": "code",
   "execution_count": 1,
   "id": "15956e2b-7a01-442f-9cbc-4054100d102a",
   "metadata": {},
   "outputs": [
    {
     "data": {
      "text/plain": [
       "'2.6.0+cu124'"
      ]
     },
     "execution_count": 1,
     "metadata": {},
     "output_type": "execute_result"
    }
   ],
   "source": [
    "import torch\n",
    "torch.__version__"
   ]
  },
  {
   "cell_type": "code",
   "execution_count": 2,
   "id": "263915cf-945f-4487-99be-ba8d5799401f",
   "metadata": {},
   "outputs": [
    {
     "name": "stderr",
     "output_type": "stream",
     "text": [
      "/home/paco/vqvae/env-torch/lib/python3.10/site-packages/tqdm/auto.py:21: TqdmWarning: IProgress not found. Please update jupyter and ipywidgets. See https://ipywidgets.readthedocs.io/en/stable/user_install.html\n",
      "  from .autonotebook import tqdm as notebook_tqdm\n"
     ]
    }
   ],
   "source": [
    "from drcnet.run import main"
   ]
  },
  {
   "cell_type": "code",
   "execution_count": 3,
   "id": "0d639354-0ee6-48f9-ba81-51e9240cc764",
   "metadata": {},
   "outputs": [
    {
     "name": "stderr",
     "output_type": "stream",
     "text": [
      "2025-07-22 08:59:00,601 - root - INFO - Logging configured - level: INFO, file: logs/training_20250722_085900.log\n",
      "2025-07-22 08:59:00,602 - root - INFO - Starting training with dataset: dbrain\n",
      "2025-07-22 08:59:00,603 - root - INFO - Loading config from: /home/paco/TechJourney/TechJourney/DWMRI/src/drcnet/config.yaml\n",
      "2025-07-22 08:59:00,604 - root - INFO - Loading configuration from: /home/paco/TechJourney/TechJourney/DWMRI/src/drcnet/config.yaml\n",
      "2025-07-22 08:59:00,609 - root - INFO - Configuration file loaded successfully\n",
      "2025-07-22 08:59:00,610 - root - INFO - Configuration converted to Munch object\n",
      "2025-07-22 08:59:00,611 - root - INFO - Configuration loaded successfully\n",
      "2025-07-22 08:59:00,611 - root - INFO - Using DBrain dataset configuration\n",
      "2025-07-22 08:59:00,612 - root - INFO - DBrainDataLoader initialized - nii_path: /home/paco/d_brain/D_BRAIN_b2500_6_60_14_HCP_nless.nii, bvecs_path: /home/paco/d_brain/D_BRAIN_b2500_6_60_HCP_b_matrix.txt, bvalue: 2500, noise_sigma: 0.01\n",
      "2025-07-22 08:59:00,612 - root - INFO - DBrainDataLoader initialized with noise_sigma=0.01\n",
      "2025-07-22 08:59:00,613 - root - INFO - Loading data...\n",
      "2025-07-22 08:59:00,614 - root - INFO - Loading data from /home/paco/d_brain/D_BRAIN_b2500_6_60_14_HCP_nless.nii\n",
      "pixdim[0] (qfac) should be 1 (default) or -1; setting qfac to 1\n",
      "2025-07-22 08:59:00,617 - nibabel.global - INFO - pixdim[0] (qfac) should be 1 (default) or -1; setting qfac to 1\n",
      "2025-07-22 08:59:00,618 - root - INFO - Raw data loaded - shape: (128, 128, 97, 66), dtype: float64\n",
      "2025-07-22 08:59:00,903 - root - INFO - Raw data stats - min: 0.0000, max: 7462.0000, mean: 159.3769\n",
      "2025-07-22 08:59:00,904 - root - INFO - Normalizing spatial dimensions...\n",
      "2025-07-22 08:59:00,904 - root - INFO - Normalizing spatial dimensions for data of shape (128, 128, 97, 66)\n",
      "2025-07-22 08:59:01,732 - root - INFO - Spatial normalization completed - output shape: (128, 128, 97, 66)\n",
      "2025-07-22 08:59:01,842 - root - INFO - Normalized data stats - min: 0.0000, max: 1.0000, mean: 0.1140\n",
      "2025-07-22 08:59:01,842 - root - INFO - Adding Rician noise with sigma=0.01...\n",
      "2025-07-22 08:59:01,843 - root - INFO - Adding Rician noise with sigma=0.01 to data of shape (128, 128, 97, 66)\n",
      "2025-07-22 08:59:13,046 - root - INFO - Rician noise added - noisy data shape: (128, 128, 97, 66)\n",
      "2025-07-22 08:59:13,155 - root - INFO - Noisy data stats - min: 0.0000, max: 1.0321, mean: 0.1215\n",
      "2025-07-22 08:59:13,156 - root - INFO - Normalizing noisy data spatial dimensions...\n",
      "2025-07-22 08:59:13,156 - root - INFO - Normalizing spatial dimensions for data of shape (128, 128, 97, 66)\n",
      "2025-07-22 08:59:13,400 - root - INFO - Spatial normalization completed - output shape: (128, 128, 97, 66)\n",
      "2025-07-22 08:59:13,509 - root - INFO - Final noisy data stats - min: 0.0000, max: 1.0000, mean: 0.1209\n",
      "2025-07-22 08:59:13,510 - root - INFO - Data shape: (128, 128, 97, 66)\n",
      "2025-07-22 08:59:13,511 - root - INFO - Noisy data shape: (128, 128, 97, 66)\n",
      "2025-07-22 08:59:13,549 - root - INFO - Taking volumes from 6 to 16\n",
      "2025-07-22 08:59:13,550 - root - INFO - Noisy data shape: (128, 128, 96, 10)\n",
      "2025-07-22 08:59:13,567 - root - INFO - Data type: float32, Min: 0.0000, Max: 1.0000, Mean: 0.1221\n",
      "2025-07-22 08:59:13,567 - root - INFO - Initializing DataSet: data.shape=(128, 128, 96, 10), take_volume_idx=0, patch_size=(10, 32, 32, 32), step=16\n",
      "2025-07-22 08:59:13,568 - root - INFO - Creating sliding windows: patch_size=(10, 32, 32, 32), step=16\n",
      "2025-07-22 08:59:16,327 - root - INFO - Sliding windows reshaped to: (245, 10, 32, 32, 32)\n",
      "2025-07-22 08:59:16,329 - root - INFO - Created 245 windows of shape torch.Size([10, 32, 32, 32]).\n",
      "2025-07-22 08:59:16,330 - root - INFO - DataLoader created with batch_size=8, num_batches=31\n",
      "2025-07-22 08:59:16,330 - root - INFO - Initializing DenoiserNet model...\n",
      "2025-07-22 08:59:16,331 - root - INFO - Initializing DenoiserNet: input_channels=9, output_channels=1, groups=1, dense_convs=2, residual=True, base_filters=32\n",
      "2025-07-22 08:59:16,352 - root - INFO - Initializing GatedBlock: x_channels=32, h_channels=32, dense_convs=2, groups=1\n",
      "2025-07-22 08:59:16,353 - root - INFO - Initializing DenoisingBlock: in_channels=64, inner_channels=32, out_channels=32, inner_convolutions=2, residual=False\n",
      "2025-07-22 08:59:16,354 - root - INFO - Initializing FactorizedBlock: in_channels=96, out_channels=32, groups=1\n",
      "2025-07-22 08:59:16,355 - root - INFO - Initializing FactorizedBlock: in_channels=128, out_channels=32, groups=1\n",
      "2025-07-22 08:59:16,517 - root - INFO - Model initialized - in_channel: 9, out_channel: 1\n",
      "2025-07-22 08:59:16,518 - root - INFO - Total model parameters: 109954\n",
      "2025-07-22 08:59:16,519 - root - INFO - Setting up optimizer and scheduler...\n",
      "2025-07-22 08:59:17,466 - root - INFO - Optimizer: Adam(lr=0.0001)\n",
      "2025-07-22 08:59:17,467 - root - INFO - Training device: cuda\n",
      "2025-07-22 08:59:17,468 - root - INFO - Number of epochs: 300\n",
      "2025-07-22 08:59:17,468 - root - INFO - Checkpoint directory: drcnet/checkpoints/dbrain\n",
      "2025-07-22 08:59:17,469 - root - INFO - Starting training - device: cuda, epochs: 300\n",
      "2025-07-22 08:59:17,471 - root - INFO - Model device: cpu\n",
      "2025-07-22 08:59:17,473 - root - INFO - Model moved to device: cuda\n",
      "2025-07-22 08:59:17,474 - root - INFO - Using existing checkpoint directory: drcnet/checkpoints/dbrain/bvalue_2500/num_volumes_10/noise_sigma_0.01/learning_rate_0.0001\n",
      "2025-07-22 08:59:17,474 - root - INFO - Attempting to load checkpoint from: drcnet/checkpoints/dbrain/bvalue_2500/num_volumes_10/noise_sigma_0.01/learning_rate_0.0001/latest_checkpoint.pth\n",
      "2025-07-22 08:59:17,513 - root - INFO - Checkpoint loaded successfully: drcnet/checkpoints/dbrain/bvalue_2500/num_volumes_10/noise_sigma_0.01/learning_rate_0.0001/latest_checkpoint.pth\n",
      "2025-07-22 08:59:17,514 - root - INFO - Checkpoint details - epoch: 300, loss: 0.295212, best_loss: 0.294580\n",
      "2025-07-22 08:59:17,514 - root - INFO - No scheduler state in checkpoint\n",
      "2025-07-22 08:59:17,516 - root - INFO - Training starting from epoch: 300\n",
      "2025-07-22 08:59:17,516 - root - INFO - Best loss so far: 0.294580\n",
      "Training: 0it [00:00, ?it/s]\n",
      "2025-07-22 08:59:17,520 - root - INFO - Training completed successfully.\n",
      "2025-07-22 08:59:17,521 - root - INFO - Final best loss: 0.294580\n",
      "2025-07-22 08:59:17,521 - root - INFO - Total epochs trained: 0\n",
      "2025-07-22 08:59:17,522 - root - INFO - Training setup completed successfully\n",
      "2025-07-22 08:59:17,522 - root - INFO - Training completed. Log file: logs/training_20250722_085900.log\n",
      "2025-07-22 08:59:17,523 - root - INFO - Reconstructing DWIs...\n",
      "2025-07-22 08:59:17,523 - root - INFO - Initializing DenoiserNet: input_channels=9, output_channels=1, groups=1, dense_convs=2, residual=True, base_filters=32\n",
      "2025-07-22 08:59:17,527 - root - INFO - Initializing GatedBlock: x_channels=32, h_channels=32, dense_convs=2, groups=1\n",
      "2025-07-22 08:59:17,528 - root - INFO - Initializing DenoisingBlock: in_channels=64, inner_channels=32, out_channels=32, inner_convolutions=2, residual=False\n",
      "2025-07-22 08:59:17,529 - root - INFO - Initializing FactorizedBlock: in_channels=96, out_channels=32, groups=1\n",
      "2025-07-22 08:59:17,530 - root - INFO - Initializing FactorizedBlock: in_channels=128, out_channels=32, groups=1\n",
      "2025-07-22 08:59:17,543 - root - INFO - Attempting to load checkpoint from: drcnet/checkpoints/dbrain/bvalue_2500/num_volumes_10/noise_sigma_0.01/learning_rate_0.0001/best_loss_checkpoint.pth\n",
      "2025-07-22 08:59:17,581 - root - INFO - Checkpoint loaded successfully: drcnet/checkpoints/dbrain/bvalue_2500/num_volumes_10/noise_sigma_0.01/learning_rate_0.0001/best_loss_checkpoint.pth\n",
      "2025-07-22 08:59:17,582 - root - INFO - Checkpoint details - epoch: 238, loss: 0.294580, best_loss: 0.294580\n",
      "2025-07-22 08:59:17,582 - root - INFO - No scheduler state in checkpoint\n",
      "2025-07-22 08:59:17,585 - root - INFO - Initializing DataSet: data.shape=(128, 128, 96, 10), take_volume_idx=0, patch_size=(10, 128, 128, 96), step=1\n",
      "2025-07-22 08:59:17,585 - root - INFO - Creating sliding windows: patch_size=(10, 128, 128, 96), step=1\n",
      "2025-07-22 08:59:17,586 - root - INFO - Sliding windows reshaped to: (1, 10, 128, 128, 96)\n",
      "2025-07-22 08:59:17,587 - root - INFO - Created 1 windows of shape torch.Size([10, 128, 128, 96]).\n",
      "Reconstructing:   0%|          | 0/1 [00:00<?, ?it/s]\n"
     ]
    },
    {
     "ename": "AttributeError",
     "evalue": "'list' object has no attribute 'to'",
     "output_type": "error",
     "traceback": [
      "\u001b[0;31m---------------------------------------------------------------------------\u001b[0m",
      "\u001b[0;31mAttributeError\u001b[0m                            Traceback (most recent call last)",
      "Cell \u001b[0;32mIn[3], line 1\u001b[0m\n\u001b[0;32m----> 1\u001b[0m \u001b[43mmain\u001b[49m\u001b[43m(\u001b[49m\u001b[38;5;124;43m\"\u001b[39;49m\u001b[38;5;124;43mdbrain\u001b[39;49m\u001b[38;5;124;43m\"\u001b[39;49m\u001b[43m)\u001b[49m\n",
      "File \u001b[0;32m~/TechJourney/TechJourney/DWMRI/src/drcnet/run.py:209\u001b[0m, in \u001b[0;36mmain\u001b[0;34m(dataset, train, reconstruct, generate_images)\u001b[0m\n\u001b[1;32m    195\u001b[0m reconstruct_set \u001b[38;5;241m=\u001b[39m DataSet(\n\u001b[1;32m    196\u001b[0m     noisy_data,\n\u001b[1;32m    197\u001b[0m     take_volume_idx\u001b[38;5;241m=\u001b[39msettings\u001b[38;5;241m.\u001b[39mdata\u001b[38;5;241m.\u001b[39mtake_volume_idx,\n\u001b[0;32m   (...)\u001b[0m\n\u001b[1;32m    204\u001b[0m     step\u001b[38;5;241m=\u001b[39m\u001b[38;5;241m1\u001b[39m,\n\u001b[1;32m    205\u001b[0m )\n\u001b[1;32m    206\u001b[0m reconstruct_loader \u001b[38;5;241m=\u001b[39m DataLoader(\n\u001b[1;32m    207\u001b[0m     reconstruct_set, batch_size\u001b[38;5;241m=\u001b[39m\u001b[38;5;241m1\u001b[39m, shuffle\u001b[38;5;241m=\u001b[39m\u001b[38;5;28;01mFalse\u001b[39;00m\n\u001b[1;32m    208\u001b[0m )\n\u001b[0;32m--> 209\u001b[0m reconstructed_dwis \u001b[38;5;241m=\u001b[39m \u001b[43mreconstruct_dwis\u001b[49m\u001b[43m(\u001b[49m\n\u001b[1;32m    210\u001b[0m \u001b[43m    \u001b[49m\u001b[43mmodel\u001b[49m\u001b[38;5;241;43m=\u001b[39;49m\u001b[43mreconstruct_model\u001b[49m\u001b[43m,\u001b[49m\n\u001b[1;32m    211\u001b[0m \u001b[43m    \u001b[49m\u001b[43mdata_loader\u001b[49m\u001b[38;5;241;43m=\u001b[39;49m\u001b[43mreconstruct_loader\u001b[49m\u001b[43m,\u001b[49m\n\u001b[1;32m    212\u001b[0m \u001b[43m    \u001b[49m\u001b[43mdevice\u001b[49m\u001b[38;5;241;43m=\u001b[39;49m\u001b[43msettings\u001b[49m\u001b[38;5;241;43m.\u001b[39;49m\u001b[43mreconstruct\u001b[49m\u001b[38;5;241;43m.\u001b[39;49m\u001b[43mdevice\u001b[49m\u001b[43m,\u001b[49m\n\u001b[1;32m    213\u001b[0m \u001b[43m\u001b[49m\u001b[43m)\u001b[49m\n\u001b[1;32m    214\u001b[0m logging\u001b[38;5;241m.\u001b[39minfo(\u001b[38;5;124mf\u001b[39m\u001b[38;5;124m\"\u001b[39m\u001b[38;5;124mReconstructed DWIs shape: \u001b[39m\u001b[38;5;132;01m{\u001b[39;00mreconstructed_dwis\u001b[38;5;241m.\u001b[39mshape\u001b[38;5;132;01m}\u001b[39;00m\u001b[38;5;124m\"\u001b[39m)\n\u001b[1;32m    215\u001b[0m logging\u001b[38;5;241m.\u001b[39minfo(\n\u001b[1;32m    216\u001b[0m     \u001b[38;5;124mf\u001b[39m\u001b[38;5;124m\"\u001b[39m\u001b[38;5;124mReconstructed DWIs min: \u001b[39m\u001b[38;5;132;01m{\u001b[39;00mreconstructed_dwis\u001b[38;5;241m.\u001b[39mmin()\u001b[38;5;132;01m:\u001b[39;00m\u001b[38;5;124m.4f\u001b[39m\u001b[38;5;132;01m}\u001b[39;00m\u001b[38;5;124m, \u001b[39m\u001b[38;5;124m\"\u001b[39m\n\u001b[1;32m    217\u001b[0m     \u001b[38;5;124mf\u001b[39m\u001b[38;5;124m\"\u001b[39m\u001b[38;5;124mmax: \u001b[39m\u001b[38;5;132;01m{\u001b[39;00mreconstructed_dwis\u001b[38;5;241m.\u001b[39mmax()\u001b[38;5;132;01m:\u001b[39;00m\u001b[38;5;124m.4f\u001b[39m\u001b[38;5;132;01m}\u001b[39;00m\u001b[38;5;124m, \u001b[39m\u001b[38;5;124m\"\u001b[39m\n\u001b[1;32m    218\u001b[0m     \u001b[38;5;124mf\u001b[39m\u001b[38;5;124m\"\u001b[39m\u001b[38;5;124mmean: \u001b[39m\u001b[38;5;132;01m{\u001b[39;00mreconstructed_dwis\u001b[38;5;241m.\u001b[39mmean()\u001b[38;5;132;01m:\u001b[39;00m\u001b[38;5;124m.4f\u001b[39m\u001b[38;5;132;01m}\u001b[39;00m\u001b[38;5;124m\"\u001b[39m\n\u001b[1;32m    219\u001b[0m )\n",
      "File \u001b[0;32m~/TechJourney/TechJourney/DWMRI/src/drcnet/reconstruction.py:10\u001b[0m, in \u001b[0;36mreconstruct_dwis\u001b[0;34m(model, data_loader, device)\u001b[0m\n\u001b[1;32m      8\u001b[0m \u001b[38;5;28;01mwith\u001b[39;00m torch\u001b[38;5;241m.\u001b[39minference_mode():\n\u001b[1;32m      9\u001b[0m     \u001b[38;5;28;01mfor\u001b[39;00m x \u001b[38;5;129;01min\u001b[39;00m tqdm(data_loader, desc\u001b[38;5;241m=\u001b[39m\u001b[38;5;124m\"\u001b[39m\u001b[38;5;124mReconstructing\u001b[39m\u001b[38;5;124m\"\u001b[39m):\n\u001b[0;32m---> 10\u001b[0m         x \u001b[38;5;241m=\u001b[39m \u001b[43mx\u001b[49m\u001b[38;5;241;43m.\u001b[39;49m\u001b[43mto\u001b[49m(device)\n\u001b[1;32m     11\u001b[0m         reconstructed \u001b[38;5;241m=\u001b[39m model(x)\n\u001b[1;32m     12\u001b[0m         reconstructed \u001b[38;5;241m=\u001b[39m reconstructed\u001b[38;5;241m.\u001b[39msqueeze()\u001b[38;5;241m.\u001b[39mdetach()\u001b[38;5;241m.\u001b[39mcpu()\u001b[38;5;241m.\u001b[39mnumpy()\n",
      "\u001b[0;31mAttributeError\u001b[0m: 'list' object has no attribute 'to'"
     ]
    }
   ],
   "source": [
    "main(\"dbrain\")"
   ]
  },
  {
   "cell_type": "code",
   "execution_count": null,
   "id": "dc6edbad-c311-450d-a1c5-cafb96646c81",
   "metadata": {},
   "outputs": [],
   "source": []
  }
 ],
 "metadata": {
  "kernelspec": {
   "display_name": "env-torch",
   "language": "python",
   "name": "env-torch"
  },
  "language_info": {
   "codemirror_mode": {
    "name": "ipython",
    "version": 3
   },
   "file_extension": ".py",
   "mimetype": "text/x-python",
   "name": "python",
   "nbconvert_exporter": "python",
   "pygments_lexer": "ipython3",
   "version": "3.10.16"
  },
  "widgets": {
   "application/vnd.jupyter.widget-state+json": {
    "state": {},
    "version_major": 2,
    "version_minor": 0
   }
  }
 },
 "nbformat": 4,
 "nbformat_minor": 5
}
