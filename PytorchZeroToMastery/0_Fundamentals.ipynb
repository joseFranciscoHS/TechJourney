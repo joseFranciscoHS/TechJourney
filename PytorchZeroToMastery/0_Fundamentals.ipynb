{
 "cells": [
  {
   "cell_type": "code",
   "execution_count": 1,
   "metadata": {},
   "outputs": [
    {
     "data": {
      "text/plain": [
       "'2.2.1+cu121'"
      ]
     },
     "execution_count": 1,
     "metadata": {},
     "output_type": "execute_result"
    }
   ],
   "source": [
    "import torch\n",
    "\n",
    "torch.__version__"
   ]
  },
  {
   "cell_type": "markdown",
   "metadata": {},
   "source": [
    "# Tensors"
   ]
  },
  {
   "cell_type": "markdown",
   "metadata": {},
   "source": [
    "## Creating tensors"
   ]
  },
  {
   "cell_type": "code",
   "execution_count": 2,
   "metadata": {},
   "outputs": [
    {
     "name": "stdout",
     "output_type": "stream",
     "text": [
      "sacalar tensor(8.)\n",
      "n dims 0\n",
      "item within tensor 8.0\n"
     ]
    }
   ],
   "source": [
    "# creating a scalar\n",
    "scalar = torch.tensor(8, dtype=torch.float)\n",
    "print(\"sacalar\", scalar)\n",
    "print(\"n dims\", scalar.ndim)\n",
    "# retrieving the value within the tensor\n",
    "# only works with one-element tensors\n",
    "print(\"item within tensor\", scalar.item())"
   ]
  },
  {
   "cell_type": "code",
   "execution_count": 3,
   "metadata": {},
   "outputs": [
    {
     "name": "stdout",
     "output_type": "stream",
     "text": [
      "vector tensor([7., 8., 9.])\n",
      "n dims 1\n",
      "shape torch.Size([3])\n"
     ]
    }
   ],
   "source": [
    "# creating a vector\n",
    "vector = torch.tensor([7, 8, 9], dtype=torch.float)\n",
    "print(\"vector\", vector)\n",
    "print(\"n dims\", vector.ndim)\n",
    "print(\"shape\", vector.shape)"
   ]
  },
  {
   "cell_type": "code",
   "execution_count": 4,
   "metadata": {},
   "outputs": [
    {
     "name": "stdout",
     "output_type": "stream",
     "text": [
      "matrix tensor([[1., 2., 3.],\n",
      "        [4., 5., 6.]])\n",
      "n dim 2\n",
      "shape torch.Size([2, 3])\n"
     ]
    }
   ],
   "source": [
    "# matrix\n",
    "M = torch.tensor([[1, 2, 3], [4, 5, 6]], dtype=torch.float)\n",
    "print(\"matrix\", M)\n",
    "print(\"n dim\", M.ndim)\n",
    "print(\"shape\", M.shape)"
   ]
  },
  {
   "cell_type": "code",
   "execution_count": 5,
   "metadata": {},
   "outputs": [
    {
     "name": "stdout",
     "output_type": "stream",
     "text": [
      "tensor tensor([[[2., 3.],\n",
      "         [3., 4.],\n",
      "         [4., 5.],\n",
      "         [5., 6.]]])\n",
      "n dim 3\n",
      "shape torch.Size([1, 4, 2])\n"
     ]
    }
   ],
   "source": [
    "# tensor\n",
    "T = torch.tensor([[[2, 3], [3, 4], [4, 5], [5, 6]]], dtype=torch.float)\n",
    "print(\"tensor\", T)\n",
    "print(\"n dim\", T.ndim)\n",
    "print(\"shape\", T.shape)"
   ]
  },
  {
   "cell_type": "markdown",
   "metadata": {},
   "source": [
    "## Random tensors"
   ]
  },
  {
   "cell_type": "code",
   "execution_count": 6,
   "metadata": {},
   "outputs": [
    {
     "name": "stdout",
     "output_type": "stream",
     "text": [
      "random tensor tensor([[[0.1544, 0.5378],\n",
      "         [0.7764, 0.2216],\n",
      "         [0.4070, 0.9742],\n",
      "         [0.1582, 0.0133],\n",
      "         [0.2326, 0.7428],\n",
      "         [0.9033, 0.3296]],\n",
      "\n",
      "        [[0.4766, 0.3484],\n",
      "         [0.9352, 0.7411],\n",
      "         [0.5393, 0.6388],\n",
      "         [0.2985, 0.1923],\n",
      "         [0.0441, 0.2294],\n",
      "         [0.2552, 0.0138]],\n",
      "\n",
      "        [[0.5408, 0.7326],\n",
      "         [0.7095, 0.9597],\n",
      "         [0.1172, 0.7471],\n",
      "         [0.0460, 0.5365],\n",
      "         [0.4647, 0.4979],\n",
      "         [0.4478, 0.4112]],\n",
      "\n",
      "        [[0.2988, 0.0769],\n",
      "         [0.3847, 0.0442],\n",
      "         [0.6183, 0.1399],\n",
      "         [0.1668, 0.2853],\n",
      "         [0.7303, 0.8089],\n",
      "         [0.9080, 0.0364]],\n",
      "\n",
      "        [[0.1667, 0.2444],\n",
      "         [0.0816, 0.1475],\n",
      "         [0.3878, 0.4470],\n",
      "         [0.2530, 0.1635],\n",
      "         [0.2848, 0.3020],\n",
      "         [0.5973, 0.7015]],\n",
      "\n",
      "        [[0.9499, 0.6671],\n",
      "         [0.1772, 0.5632],\n",
      "         [0.2514, 0.5429],\n",
      "         [0.0723, 0.9229],\n",
      "         [0.8144, 0.4595],\n",
      "         [0.3819, 0.3197]]])\n",
      "n dims 3\n",
      "shape torch.Size([6, 6, 2])\n"
     ]
    }
   ],
   "source": [
    "random_tensor = torch.rand(size=(6, 6, 2), dtype=torch.float)\n",
    "print(\"random tensor\", random_tensor)\n",
    "print(\"n dims\", random_tensor.ndim)\n",
    "print(\"shape\", random_tensor.shape)"
   ]
  },
  {
   "cell_type": "markdown",
   "metadata": {},
   "source": [
    "## Zeros and Ones"
   ]
  },
  {
   "cell_type": "code",
   "execution_count": 9,
   "metadata": {},
   "outputs": [
    {
     "name": "stdout",
     "output_type": "stream",
     "text": [
      "zeros tensor([[0., 0., 0., 0., 0., 0., 0., 0.],\n",
      "        [0., 0., 0., 0., 0., 0., 0., 0.]])\n",
      "shape torch.Size([2, 8])\n"
     ]
    }
   ],
   "source": [
    "zeros = torch.zeros(size=(2, 8))\n",
    "print(\"zeros\", zeros)\n",
    "print(\"shape\", zeros.shape)"
   ]
  },
  {
   "cell_type": "code",
   "execution_count": 10,
   "metadata": {},
   "outputs": [
    {
     "name": "stdout",
     "output_type": "stream",
     "text": [
      "ones tensor([[1., 1., 1., 1., 1., 1., 1., 1.],\n",
      "        [1., 1., 1., 1., 1., 1., 1., 1.]])\n",
      "shape torch.Size([2, 8])\n"
     ]
    }
   ],
   "source": [
    "ones = torch.ones(size=(2, 8))\n",
    "print(\"ones\", ones)\n",
    "print(\"shape\", ones.shape)"
   ]
  },
  {
   "cell_type": "markdown",
   "metadata": {},
   "source": [
    "## Ranges"
   ]
  },
  {
   "cell_type": "code",
   "execution_count": 13,
   "metadata": {},
   "outputs": [
    {
     "name": "stdout",
     "output_type": "stream",
     "text": [
      "arange tensor([0, 1, 2, 3, 4, 5, 6, 7, 8, 9])\n",
      "zeros like tensor([0, 0, 0, 0, 0, 0, 0, 0, 0, 0])\n"
     ]
    }
   ],
   "source": [
    "arange = torch.arange(0, 10, 1)\n",
    "print(\"arange\", arange)\n",
    "# create a tensor with the same shape like another one\n",
    "zeros_like = torch.zeros_like(arange)\n",
    "print(\"zeros like\", zeros_like)"
   ]
  },
  {
   "cell_type": "markdown",
   "metadata": {},
   "source": [
    "## Useful information"
   ]
  },
  {
   "cell_type": "code",
   "execution_count": 14,
   "metadata": {},
   "outputs": [
    {
     "name": "stdout",
     "output_type": "stream",
     "text": [
      "tensor([[0.1572, 0.4071, 0.5923, 0.2357],\n",
      "        [0.3150, 0.9647, 0.5689, 0.0611],\n",
      "        [0.2971, 0.9480, 0.6374, 0.5281]])\n",
      "Shape of tensor: torch.Size([3, 4])\n",
      "Datatype of tensor: torch.float32\n",
      "Device tensor is stored on: cpu\n"
     ]
    }
   ],
   "source": [
    "# Create a tensor\n",
    "some_tensor = torch.rand(3, 4)\n",
    "\n",
    "# Find out details about it\n",
    "print(some_tensor)\n",
    "print(f\"Shape of tensor: {some_tensor.shape}\")\n",
    "print(f\"Datatype of tensor: {some_tensor.dtype}\")\n",
    "print(f\"Device tensor is stored on: {some_tensor.device}\") # will default to CPU"
   ]
  },
  {
   "cell_type": "code",
   "execution_count": null,
   "metadata": {},
   "outputs": [],
   "source": []
  }
 ],
 "metadata": {
  "language_info": {
   "name": "python"
  }
 },
 "nbformat": 4,
 "nbformat_minor": 2
}
