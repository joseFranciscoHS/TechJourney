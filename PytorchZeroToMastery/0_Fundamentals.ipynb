{
 "cells": [
  {
   "cell_type": "code",
   "execution_count": 1,
   "metadata": {},
   "outputs": [
    {
     "data": {
      "text/plain": [
       "'2.2.1+cu121'"
      ]
     },
     "execution_count": 1,
     "metadata": {},
     "output_type": "execute_result"
    }
   ],
   "source": [
    "import torch\n",
    "\n",
    "torch.__version__"
   ]
  },
  {
   "cell_type": "markdown",
   "metadata": {},
   "source": [
    "# Tensors"
   ]
  },
  {
   "cell_type": "markdown",
   "metadata": {},
   "source": [
    "## Creating tensors"
   ]
  },
  {
   "cell_type": "code",
   "execution_count": 2,
   "metadata": {},
   "outputs": [
    {
     "name": "stdout",
     "output_type": "stream",
     "text": [
      "sacalar tensor(8.)\n",
      "n dims 0\n",
      "item within tensor 8.0\n"
     ]
    }
   ],
   "source": [
    "# creating a scalar\n",
    "scalar = torch.tensor(8, dtype=torch.float)\n",
    "print(\"sacalar\", scalar)\n",
    "print(\"n dims\", scalar.ndim)\n",
    "# retrieving the value within the tensor\n",
    "# only works with one-element tensors\n",
    "print(\"item within tensor\", scalar.item())"
   ]
  },
  {
   "cell_type": "code",
   "execution_count": 3,
   "metadata": {},
   "outputs": [
    {
     "name": "stdout",
     "output_type": "stream",
     "text": [
      "vector tensor([7., 8., 9.])\n",
      "n dims 1\n",
      "shape torch.Size([3])\n"
     ]
    }
   ],
   "source": [
    "# creating a vector\n",
    "vector = torch.tensor([7, 8, 9], dtype=torch.float)\n",
    "print(\"vector\", vector)\n",
    "print(\"n dims\", vector.ndim)\n",
    "print(\"shape\", vector.shape)"
   ]
  },
  {
   "cell_type": "code",
   "execution_count": 4,
   "metadata": {},
   "outputs": [
    {
     "name": "stdout",
     "output_type": "stream",
     "text": [
      "matrix tensor([[1., 2., 3.],\n",
      "        [4., 5., 6.]])\n",
      "n dim 2\n",
      "shape torch.Size([2, 3])\n"
     ]
    }
   ],
   "source": [
    "# matrix\n",
    "M = torch.tensor([[1, 2, 3], [4, 5, 6]], dtype=torch.float)\n",
    "print(\"matrix\", M)\n",
    "print(\"n dim\", M.ndim)\n",
    "print(\"shape\", M.shape)"
   ]
  },
  {
   "cell_type": "code",
   "execution_count": 5,
   "metadata": {},
   "outputs": [
    {
     "name": "stdout",
     "output_type": "stream",
     "text": [
      "tensor tensor([[[2., 3.],\n",
      "         [3., 4.],\n",
      "         [4., 5.],\n",
      "         [5., 6.]]])\n",
      "n dim 3\n",
      "shape torch.Size([1, 4, 2])\n"
     ]
    }
   ],
   "source": [
    "# tensor\n",
    "T = torch.tensor([[[2, 3], [3, 4], [4, 5], [5, 6]]], dtype=torch.float)\n",
    "print(\"tensor\", T)\n",
    "print(\"n dim\", T.ndim)\n",
    "print(\"shape\", T.shape)"
   ]
  },
  {
   "cell_type": "markdown",
   "metadata": {},
   "source": [
    "## Random tensors"
   ]
  },
  {
   "cell_type": "code",
   "execution_count": 6,
   "metadata": {},
   "outputs": [
    {
     "name": "stdout",
     "output_type": "stream",
     "text": [
      "random tensor tensor([[[0.4307, 0.2389],\n",
      "         [0.5956, 0.0937],\n",
      "         [0.1541, 0.5429],\n",
      "         [0.9448, 0.5986],\n",
      "         [0.6958, 0.9794],\n",
      "         [0.3824, 0.6893]],\n",
      "\n",
      "        [[0.3098, 0.0373],\n",
      "         [0.4739, 0.3444],\n",
      "         [0.9414, 0.5594],\n",
      "         [0.7223, 0.2942],\n",
      "         [0.8300, 0.7810],\n",
      "         [0.0680, 0.2884]],\n",
      "\n",
      "        [[0.6441, 0.3882],\n",
      "         [0.0280, 0.7789],\n",
      "         [0.2986, 0.6317],\n",
      "         [0.2831, 0.1002],\n",
      "         [0.1677, 0.1790],\n",
      "         [0.3273, 0.5293]],\n",
      "\n",
      "        [[0.1291, 0.2323],\n",
      "         [0.1903, 0.8331],\n",
      "         [0.9530, 0.7669],\n",
      "         [0.2085, 0.2488],\n",
      "         [0.5345, 0.1736],\n",
      "         [0.4895, 0.2884]],\n",
      "\n",
      "        [[0.3405, 0.2868],\n",
      "         [0.2485, 0.3532],\n",
      "         [0.3673, 0.4042],\n",
      "         [0.5670, 0.9519],\n",
      "         [0.4081, 0.4748],\n",
      "         [0.4492, 0.9510]],\n",
      "\n",
      "        [[0.3593, 0.1143],\n",
      "         [0.7582, 0.3283],\n",
      "         [0.9174, 0.8725],\n",
      "         [0.7400, 0.9519],\n",
      "         [0.8243, 0.1497],\n",
      "         [0.1073, 0.7014]]])\n",
      "n dims 3\n",
      "shape torch.Size([6, 6, 2])\n"
     ]
    }
   ],
   "source": [
    "random_tensor = torch.rand(size=(6, 6, 2), dtype=torch.float)\n",
    "print(\"random tensor\", random_tensor)\n",
    "print(\"n dims\", random_tensor.ndim)\n",
    "print(\"shape\", random_tensor.shape)"
   ]
  },
  {
   "cell_type": "markdown",
   "metadata": {},
   "source": [
    "## Zeros and Ones"
   ]
  },
  {
   "cell_type": "code",
   "execution_count": 7,
   "metadata": {},
   "outputs": [
    {
     "name": "stdout",
     "output_type": "stream",
     "text": [
      "zeros tensor([[0., 0., 0., 0., 0., 0., 0., 0.],\n",
      "        [0., 0., 0., 0., 0., 0., 0., 0.]])\n",
      "shape torch.Size([2, 8])\n"
     ]
    }
   ],
   "source": [
    "zeros = torch.zeros(size=(2, 8))\n",
    "print(\"zeros\", zeros)\n",
    "print(\"shape\", zeros.shape)"
   ]
  },
  {
   "cell_type": "code",
   "execution_count": 8,
   "metadata": {},
   "outputs": [
    {
     "name": "stdout",
     "output_type": "stream",
     "text": [
      "ones tensor([[1., 1., 1., 1., 1., 1., 1., 1.],\n",
      "        [1., 1., 1., 1., 1., 1., 1., 1.]])\n",
      "shape torch.Size([2, 8])\n"
     ]
    }
   ],
   "source": [
    "ones = torch.ones(size=(2, 8))\n",
    "print(\"ones\", ones)\n",
    "print(\"shape\", ones.shape)"
   ]
  },
  {
   "cell_type": "markdown",
   "metadata": {},
   "source": [
    "## Ranges"
   ]
  },
  {
   "cell_type": "code",
   "execution_count": 9,
   "metadata": {},
   "outputs": [
    {
     "name": "stdout",
     "output_type": "stream",
     "text": [
      "arange tensor([0, 1, 2, 3, 4, 5, 6, 7, 8, 9])\n",
      "zeros like tensor([0, 0, 0, 0, 0, 0, 0, 0, 0, 0])\n"
     ]
    }
   ],
   "source": [
    "arange = torch.arange(0, 10, 1)\n",
    "print(\"arange\", arange)\n",
    "# create a tensor with the same shape like another one\n",
    "zeros_like = torch.zeros_like(arange)\n",
    "print(\"zeros like\", zeros_like)"
   ]
  },
  {
   "cell_type": "markdown",
   "metadata": {},
   "source": [
    "## Useful information"
   ]
  },
  {
   "cell_type": "code",
   "execution_count": 10,
   "metadata": {},
   "outputs": [
    {
     "name": "stdout",
     "output_type": "stream",
     "text": [
      "tensor([[3.9503e-01, 9.3234e-01, 9.4042e-01, 5.7651e-01],\n",
      "        [2.8262e-01, 4.9449e-01, 7.7838e-02, 7.9192e-01],\n",
      "        [7.0347e-03, 5.6980e-01, 3.1739e-04, 6.0190e-01]])\n",
      "Shape of tensor: torch.Size([3, 4])\n",
      "Datatype of tensor: torch.float32\n",
      "Device tensor is stored on: cpu\n"
     ]
    }
   ],
   "source": [
    "# Create a tensor\n",
    "some_tensor = torch.rand(3, 4)\n",
    "\n",
    "# Find out details about it\n",
    "print(some_tensor)\n",
    "print(f\"Shape of tensor: {some_tensor.shape}\")\n",
    "print(f\"Datatype of tensor: {some_tensor.dtype}\")\n",
    "print(f\"Device tensor is stored on: {some_tensor.device}\")  # will default to CPU"
   ]
  },
  {
   "cell_type": "markdown",
   "metadata": {},
   "source": [
    "## Matrix Multiplication"
   ]
  },
  {
   "cell_type": "code",
   "execution_count": 36,
   "metadata": {},
   "outputs": [
    {
     "name": "stdout",
     "output_type": "stream",
     "text": [
      "tensor\n",
      "tensor([[1, 2, 3],\n",
      "        [6, 9, 3]])\n",
      "n dims 2\n",
      "shape torch.Size([2, 3])\n",
      "element wise addition + 10\n",
      "tensor([[11, 12, 13],\n",
      "        [16, 19, 13]])\n",
      "element wise multiplication * 1.2\n",
      "tensor([[ 1.2000,  2.4000,  3.6000],\n",
      "        [ 7.2000, 10.8000,  3.6000]])\n",
      "element wise multiplication * tensor\n",
      "tensor([[ 1,  4,  9],\n",
      "        [36, 81,  9]])\n",
      "matrix multiplication\n",
      "tensor([[ 14,  33],\n",
      "        [ 33, 126]])\n"
     ]
    }
   ],
   "source": [
    "# Create a tensor of values and add a number to it\n",
    "tensor = torch.tensor([[1, 2, 3], [6, 9, 3]])\n",
    "print(\"tensor\", tensor, sep=\"\\n\")\n",
    "print(\"n dims\", tensor.ndim)\n",
    "print(\"shape\", tensor.shape)\n",
    "\n",
    "# element wise addition\n",
    "print(\"element wise addition + 10\", tensor + 10, sep=\"\\n\")\n",
    "\n",
    "# element wise multiplication\n",
    "print(\"element wise multiplication * 1.2\", tensor * 1.2, sep=\"\\n\")\n",
    "print(\"element wise multiplication * tensor\", tensor * tensor, sep=\"\\n\")\n",
    "\n",
    "# matrix multiplication\n",
    "print(\"matrix multiplication\", torch.matmul(tensor, tensor.T), sep=\"\\n\")"
   ]
  },
  {
   "cell_type": "code",
   "execution_count": 41,
   "metadata": {},
   "outputs": [
    {
     "name": "stdout",
     "output_type": "stream",
     "text": [
      "n dims tensor A: 2\n",
      "Input shape: torch.Size([3, 2])\n",
      "\n",
      "Output:\n",
      "tensor([[ 2.0554,  1.0336,  0.6755,  0.5908, -0.7443,  1.0595,  0.3882],\n",
      "        [ 4.3104,  2.0014,  0.6511,  0.7328, -0.5351,  2.5535,  1.6245],\n",
      "        [ 6.5654,  2.9692,  0.6266,  0.8749, -0.3259,  4.0474,  2.8609]],\n",
      "       grad_fn=<AddmmBackward0>)\n",
      "\n",
      "Output shape: torch.Size([3, 7])\n"
     ]
    }
   ],
   "source": [
    "# Linear layer example\n",
    "# Since the linear layer starts with a random weights matrix, let's make it reproducible (more on this later)\n",
    "torch.manual_seed(42)\n",
    "tensor_A = torch.tensor([[1, 2], [3, 4], [5, 6]], dtype=torch.float32)\n",
    "print(\"n dims tensor A:\", tensor_A.ndim)\n",
    "# This uses matrix multiplication\n",
    "linear = torch.nn.Linear(\n",
    "    in_features=2,\n",
    "    out_features=7,  # in_features = matches inner dimension of input\n",
    ")  # out_features = describes outer value\n",
    "x = tensor_A\n",
    "output = linear(x)\n",
    "print(f\"Input shape: {x.shape}\\n\")\n",
    "print(f\"Output:\\n{output}\\n\\nOutput shape: {output.shape}\")"
   ]
  },
  {
   "cell_type": "markdown",
   "metadata": {},
   "source": [
    "## Positional min/max"
   ]
  },
  {
   "cell_type": "code",
   "execution_count": 42,
   "metadata": {},
   "outputs": [
    {
     "name": "stdout",
     "output_type": "stream",
     "text": [
      "Tensor: tensor([10, 20, 30, 40, 50, 60, 70, 80, 90])\n",
      "Index where max value occurs: 8\n",
      "Index where min value occurs: 0\n"
     ]
    }
   ],
   "source": [
    "# Create a tensor\n",
    "tensor = torch.arange(10, 100, 10)\n",
    "print(f\"Tensor: {tensor}\")\n",
    "\n",
    "# Returns index of max and min values\n",
    "print(f\"Index where max value occurs: {tensor.argmax()}\")\n",
    "print(f\"Index where min value occurs: {tensor.argmin()}\")"
   ]
  },
  {
   "cell_type": "markdown",
   "metadata": {},
   "source": [
    "## Reshaping, stacking, squeezing and unsqueezing"
   ]
  },
  {
   "cell_type": "code",
   "execution_count": 3,
   "metadata": {},
   "outputs": [
    {
     "name": "stdout",
     "output_type": "stream",
     "text": [
      "tensor:  tensor([1., 2., 3., 4., 5., 6., 7.])\n",
      "shape:  torch.Size([7])\n"
     ]
    }
   ],
   "source": [
    "# Create a tensor\n",
    "import torch\n",
    "\n",
    "x = torch.arange(1.0, 8.0)\n",
    "print(\"tensor: \", x)\n",
    "print(\"shape: \", x.shape)"
   ]
  },
  {
   "cell_type": "code",
   "execution_count": 5,
   "metadata": {},
   "outputs": [
    {
     "name": "stdout",
     "output_type": "stream",
     "text": [
      "tensor with extra dim:  tensor([[1., 2., 3., 4., 5., 6., 7.]])\n",
      "shape:  torch.Size([1, 7])\n"
     ]
    }
   ],
   "source": [
    "# Add an extra dimension\n",
    "x_reshaped = x.reshape(1, 7)\n",
    "print(\"tensor with extra dim: \", x_reshaped)\n",
    "print(\"shape: \", x_reshaped.shape)"
   ]
  },
  {
   "cell_type": "code",
   "execution_count": 7,
   "metadata": {},
   "outputs": [
    {
     "name": "stdout",
     "output_type": "stream",
     "text": [
      "tensor z:  tensor([[1., 2., 3., 4., 5., 6., 7.]])\n",
      "shape:  torch.Size([1, 7])\n",
      "tensor z:  tensor([[5., 2., 3., 4., 5., 6., 7.]])\n",
      "tensor x:  tensor([5., 2., 3., 4., 5., 6., 7.])\n"
     ]
    }
   ],
   "source": [
    "# Change view (keeps same data as original but changes view)\n",
    "# See more: https://stackoverflow.com/a/54507446/7900723\n",
    "z = x.view(1, 7)\n",
    "print(\"tensor z: \", z)\n",
    "print(\"shape: \", z.shape)\n",
    "\n",
    "# Changing z changes x\n",
    "z[:, 0] = 5\n",
    "print(\"tensor z: \", z)\n",
    "print(\"tensor x: \", x)"
   ]
  },
  {
   "cell_type": "code",
   "execution_count": 8,
   "metadata": {},
   "outputs": [
    {
     "name": "stdout",
     "output_type": "stream",
     "text": [
      "stacked tensor:  tensor([[5., 2., 3., 4., 5., 6., 7.],\n",
      "        [5., 2., 3., 4., 5., 6., 7.],\n",
      "        [5., 2., 3., 4., 5., 6., 7.],\n",
      "        [5., 2., 3., 4., 5., 6., 7.]])\n",
      "shape:  torch.Size([4, 7])\n"
     ]
    }
   ],
   "source": [
    "# Stack tensors on top of each other\n",
    "x_stacked = torch.stack(\n",
    "    [x, x, x, x], dim=0\n",
    ")  # try changing dim to dim=1 and see what happens\n",
    "print(\"stacked tensor: \", x_stacked)\n",
    "print(\"shape: \", x_stacked.shape)"
   ]
  },
  {
   "cell_type": "code",
   "execution_count": 11,
   "metadata": {},
   "outputs": [
    {
     "name": "stdout",
     "output_type": "stream",
     "text": [
      "previous tensor: tensor([[5., 2., 3., 4., 5., 6., 7.]])\n",
      "shape: torch.Size([1, 7])\n",
      "squeezed tensor: tensor([5., 2., 3., 4., 5., 6., 7.])\n",
      "shape: torch.Size([7])\n"
     ]
    }
   ],
   "source": [
    "# Remove extra dimension from x_reshaped\n",
    "print(f\"previous tensor: {x_reshaped}\")\n",
    "print(f\"shape: {x_reshaped.shape}\")\n",
    "x_squeezed = x_reshaped.squeeze()\n",
    "print(f\"squeezed tensor: {x_squeezed}\")\n",
    "print(f\"shape: {x_squeezed.shape}\")"
   ]
  },
  {
   "cell_type": "code",
   "execution_count": 14,
   "metadata": {},
   "outputs": [
    {
     "name": "stdout",
     "output_type": "stream",
     "text": [
      "previous tensor: tensor([5., 2., 3., 4., 5., 6., 7.])\n",
      "shape: torch.Size([7])\n",
      "unsqueezed tensor: tensor([[5., 2., 3., 4., 5., 6., 7.]])\n",
      "shape: torch.Size([1, 7])\n"
     ]
    }
   ],
   "source": [
    "print(f\"previous tensor: {x_squeezed}\")\n",
    "print(f\"shape: {x_squeezed.shape}\")\n",
    "\n",
    "## Add an extra dimension with unsqueeze\n",
    "x_unsqueezed = x_squeezed.unsqueeze(dim=0)\n",
    "print(f\"unsqueezed tensor: {x_unsqueezed}\")\n",
    "print(f\"shape: {x_unsqueezed.shape}\")"
   ]
  },
  {
   "cell_type": "code",
   "execution_count": 16,
   "metadata": {},
   "outputs": [
    {
     "name": "stdout",
     "output_type": "stream",
     "text": [
      "previous shape: torch.Size([224, 225, 3])\n",
      "new shape: torch.Size([3, 224, 225])\n"
     ]
    }
   ],
   "source": [
    "# Create tensor with specific shape\n",
    "x_original = torch.rand(size=(224, 225, 3))\n",
    "\n",
    "# Permute the original tensor to rearrange the axis order\n",
    "x_permuted = x_original.permute(2, 0, 1)  # shifts axis 0->1, 1->2, 2->0\n",
    "\n",
    "print(f\"previous shape: {x_original.shape}\")\n",
    "print(f\"new shape: {x_permuted.shape}\")"
   ]
  },
  {
   "cell_type": "markdown",
   "metadata": {},
   "source": [
    "## PyTorch tensors & NumPy"
   ]
  },
  {
   "cell_type": "code",
   "execution_count": 17,
   "metadata": {},
   "outputs": [
    {
     "name": "stdout",
     "output_type": "stream",
     "text": [
      "np:  [1. 2. 3. 4. 5. 6. 7.]\n",
      "torch:  tensor([1., 2., 3., 4., 5., 6., 7.], dtype=torch.float64)\n"
     ]
    }
   ],
   "source": [
    "# NumPy array to tensor\n",
    "import numpy as np\n",
    "import torch\n",
    "\n",
    "array = np.arange(1.0, 8.0)\n",
    "tensor = torch.from_numpy(array)\n",
    "\n",
    "print(\"np: \", array)\n",
    "print(\"torch: \", tensor)"
   ]
  },
  {
   "cell_type": "code",
   "execution_count": 18,
   "metadata": {},
   "outputs": [
    {
     "name": "stdout",
     "output_type": "stream",
     "text": [
      "np:  [1. 1. 1. 1. 1. 1. 1.]\n",
      "torch:  tensor([1., 1., 1., 1., 1., 1., 1.])\n"
     ]
    }
   ],
   "source": [
    "# Tensor to NumPy array\n",
    "tensor = torch.ones(7)  # create a tensor of ones with dtype=float32\n",
    "numpy_tensor = tensor.numpy()  # will be dtype=float32 unless changed\n",
    "print(\"np: \", numpy_tensor)\n",
    "print(\"torch: \", tensor)"
   ]
  },
  {
   "cell_type": "markdown",
   "metadata": {},
   "source": [
    "## Reproducibility"
   ]
  },
  {
   "cell_type": "code",
   "execution_count": 29,
   "metadata": {},
   "outputs": [
    {
     "name": "stdout",
     "output_type": "stream",
     "text": [
      "are they equal?:\n"
     ]
    },
    {
     "data": {
      "text/plain": [
       "tensor([[[True, True, True],\n",
       "         [True, True, True],\n",
       "         [True, True, True]],\n",
       "\n",
       "        [[True, True, True],\n",
       "         [True, True, True],\n",
       "         [True, True, True]],\n",
       "\n",
       "        [[True, True, True],\n",
       "         [True, True, True],\n",
       "         [True, True, True]]])"
      ]
     },
     "execution_count": 29,
     "metadata": {},
     "output_type": "execute_result"
    }
   ],
   "source": [
    "import torch\n",
    "\n",
    "# # Set the random seed\n",
    "RANDOM_SEED = 42  # try changing this to different values and see what happens to the numbers below\n",
    "torch.manual_seed(RANDOM_SEED)\n",
    "A = torch.rand((3, 3, 3))\n",
    "\n",
    "torch.manual_seed(RANDOM_SEED)\n",
    "B = torch.rand((3, 3, 3))\n",
    "\n",
    "print(\"are they equal?:\")\n",
    "A==B"
   ]
  },
  {
   "cell_type": "markdown",
   "metadata": {},
   "source": [
    "# Exercises"
   ]
  },
  {
   "cell_type": "code",
   "execution_count": null,
   "metadata": {},
   "outputs": [],
   "source": []
  }
 ],
 "metadata": {
  "language_info": {
   "name": "python"
  }
 },
 "nbformat": 4,
 "nbformat_minor": 2
}
